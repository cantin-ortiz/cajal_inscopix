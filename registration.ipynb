{
 "cells": [
  {
   "cell_type": "markdown",
   "id": "9b7f6bd2-af9e-4ada-a289-e665fe887565",
   "metadata": {},
   "source": [
    "# General imports/paths"
   ]
  },
  {
   "cell_type": "markdown",
   "id": "4d0f4629-3f30-4405-a81f-9c0c121608d5",
   "metadata": {},
   "source": [
    "## Import"
   ]
  },
  {
   "cell_type": "code",
   "execution_count": 1,
   "id": "f3ef2a0c-aa02-4087-bd1b-777509b89fa8",
   "metadata": {},
   "outputs": [],
   "source": [
    "import os\n",
    "import sys\n",
    "import numpy as np\n",
    "import pandas as pd\n",
    "import matplotlib.pyplot as plt\n",
    "import h5py\n",
    "from scipy.sparse import csr_matrix\n",
    "import pickle\n",
    "from shapely.geometry import Point\n",
    "from shapely.geometry import LineString\n",
    "import seaborn as sns"
   ]
  },
  {
   "cell_type": "markdown",
   "id": "872383d7-97a3-4c8b-a619-eaaa58061a97",
   "metadata": {},
   "source": [
    "## Paths"
   ]
  },
  {
   "cell_type": "code",
   "execution_count": 48,
   "id": "991cf11d-80d7-447e-bbb2-f3a3a6a1281b",
   "metadata": {},
   "outputs": [],
   "source": [
    "data_dir = 'C:/Users/cortiz/Projects/inscopix_project_cajal/data'\n",
    "list_animals = ['20211204/mouse_01_CA1','20211206/mouse_01_CA1','20211207/mouse_01_CA1']\n",
    "path_registration_file = os.path.join(data_dir, 'cellRegistered_M1_CA1.mat')"
   ]
  },
  {
   "cell_type": "markdown",
   "id": "8162e578-317d-4010-a369-287bf9b20369",
   "metadata": {},
   "source": [
    "## Parameters"
   ]
  },
  {
   "cell_type": "code",
   "execution_count": 3,
   "id": "1eab7e99-d7d3-4502-80d4-3e155753c31d",
   "metadata": {},
   "outputs": [],
   "source": [
    "n_bins = 5\n",
    "marker_size = 400\n",
    "color_palette = np.array(sns.color_palette('Spectral_r', n_bins))"
   ]
  },
  {
   "cell_type": "markdown",
   "id": "b59cda59-4341-4ba6-aae3-db731437aa1e",
   "metadata": {},
   "source": [
    "# Loading registration"
   ]
  },
  {
   "cell_type": "code",
   "execution_count": 4,
   "id": "687ceee8-0e78-4b96-aa11-a8cbe87b6d6c",
   "metadata": {},
   "outputs": [],
   "source": [
    "with h5py.File(path_registration_file, 'r') as f:\n",
    "    mat_reg = np.array(f['cell_registered_struct']['cell_to_index_map'])"
   ]
  },
  {
   "cell_type": "markdown",
   "id": "d18ba786-b2f2-4d0a-ad0e-49efc0675448",
   "metadata": {},
   "source": [
    "# Functions"
   ]
  },
  {
   "cell_type": "code",
   "execution_count": 88,
   "id": "f18a61c7-d7c9-40d8-b436-55d81c8bb5cb",
   "metadata": {},
   "outputs": [],
   "source": [
    "def loadAll(animal):\n",
    "    \n",
    "    global meta_spikes, df_dlc, mat_spikes, df_frames, dict_meta, reference_points, path_pickle, path_table, path_mat_spikes, cur_dir\n",
    "    \n",
    "    cur_dir = os.path.join(data_dir, animal)\n",
    "    path_table = os.path.join(cur_dir, 'behavior', 'table_cut.csv')\n",
    "    path_mat_spikes = os.path.join(cur_dir, 'spikes', 'finalSpikesMat.mat')    \n",
    "    path_pickle = os.path.join(cur_dir, 'pickle')\n",
    "    \n",
    "    with open(os.path.join(path_pickle, 'meta_spikes.pck'), 'rb') as f:\n",
    "        meta_spikes = pickle.load(f)\n",
    "    with open(os.path.join(path_pickle, 'df_dlc_projections.pck'), 'rb') as f:\n",
    "        df_dlc = pickle.load(f)\n",
    "    with open(os.path.join(path_pickle, 'mat_spikes.pck'), 'rb') as f:\n",
    "        mat_spikes = pickle.load(f)\n",
    "    with open(os.path.join(path_pickle, 'df_frames.pck'), 'rb') as f:\n",
    "        df_frames = pickle.load(f)\n",
    "    with open(os.path.join(path_pickle, 'dict_meta.pck'), 'rb') as f:\n",
    "        dict_meta = pickle.load(f)\n",
    "    with open(os.path.join(path_pickle, 'reference_points.pck'), 'rb') as f:\n",
    "        reference_points = pickle.load(f)\n",
    "        \n",
    "    df_dlc_axis = df_dlc[['closest_arm', 'projection', 'environment']]\n",
    "    meta_spikes = meta_spikes.join(df_dlc_axis, on = 'behavioral_frame')\n",
    "    \n",
    "    \n",
    "def plotArm(dict_arm):    \n",
    "\n",
    "    c = reference_points[dict_arm['mode']]\n",
    "    max_val = np.max([np.max(d) if k != 'mode' else 0 for (k,d) in dict_arm.items()])\n",
    "    bins_colorpalette = np.linspace(0, max_val+0.00000001, num = n_bins + 1)\n",
    "\n",
    "    val_middle = list()\n",
    "    \n",
    "    for arm in ['middle', 'left', 'right']:\n",
    "\n",
    "        if arm == 'middle':\n",
    "            xe = c['x_m']\n",
    "            ye = c['y_m']\n",
    "        elif arm == 'left':\n",
    "            xe = c['x_l']\n",
    "            ye = c['y_l']\n",
    "        elif arm == 'right':\n",
    "            xe = c['x_r']\n",
    "            ye = c['y_r']\n",
    "\n",
    "        x_vect = np.linspace(c['x_c'], xe, num=n_bins)\n",
    "        y_vect = np.linspace(c['y_c'], ye, num=n_bins)\n",
    "\n",
    "        color_code = np.digitize(dict_arm[arm][1:], bins_colorpalette)\n",
    "        val_middle.append(dict_arm[arm][0])\n",
    "        plt.scatter(x_vect[1:], y_vect[1:], c = color_palette[color_code-1], s = marker_size)\n",
    "    \n",
    "    color_code = np.digitize(np.mean(val_middle), bins_colorpalette)\n",
    "    plt.scatter(x_vect[0], y_vect[0], color = color_palette[color_code], s = marker_size)\n",
    "    plt.gca().set_aspect('equal')\n",
    "\n",
    "    plt.axis('off')\n",
    "    plt.gca().invert_yaxis()\n",
    "    \n",
    "    \n",
    "def getEventRate(env, cell = None, norm_by_time = True):\n",
    "    \n",
    "    if cell is None:\n",
    "        cell = range(mat_spikes.shape[1])\n",
    "    sub_spikes = meta_spikes.query('environment == @env')\n",
    "    dict_arm = {'mode': env}\n",
    "\n",
    "    for arm in ['middle', 'left', 'right']:\n",
    "\n",
    "        sub_arm = sub_spikes.query('closest_arm == @arm').copy()\n",
    "        sample_counts, _ = np.histogram(sub_arm['projection'], hist_edges)\n",
    "        sub_arm['bin_assignment'] = np.digitize(sub_arm['projection'], hist_edges) - 1\n",
    "        summed_activity_binned = np.zeros(n_bins)\n",
    "\n",
    "        for i,r in sub_arm.iterrows():\n",
    "            \n",
    "            summed_activity_binned[r['bin_assignment']] += np.sum(mat_spikes[i,cell] > 0)\n",
    "            \n",
    "        dict_arm[arm] = summed_activity_binned\n",
    "        if norm_by_time:\n",
    "            dict_arm[arm] /= sample_counts \n",
    "    \n",
    "    return(dict_arm)    "
   ]
  },
  {
   "cell_type": "markdown",
   "id": "881d7efa-e7de-4465-97cc-02c65d3616f6",
   "metadata": {},
   "source": [
    "# Finding most active cells"
   ]
  },
  {
   "cell_type": "markdown",
   "id": "fb366366-9661-43f2-9499-3b4ca139af02",
   "metadata": {},
   "source": [
    "# Heatmaps analysis"
   ]
  },
  {
   "cell_type": "code",
   "execution_count": 6,
   "id": "08f3e60c-3efb-4b4a-8242-3791a597cf14",
   "metadata": {},
   "outputs": [],
   "source": [
    "hist_edges = np.linspace(0, 1.0001, num = n_bins + 1)"
   ]
  },
  {
   "cell_type": "markdown",
   "id": "3556a6bf-d570-476c-9867-f7cf0db86c43",
   "metadata": {},
   "source": [
    "## Overview plots"
   ]
  },
  {
   "cell_type": "code",
   "execution_count": 35,
   "id": "c0248fbf-ac30-49ef-8dd9-c3255b45cb4d",
   "metadata": {},
   "outputs": [],
   "source": [
    "loadAll(list_animal[0])\n",
    "num_events = -1*np.ones(mat_reg.shape[1])\n",
    "\n",
    "for i,r in enumerate(mat_reg.T):\n",
    "    cell_selected = mat_reg[0,i]\n",
    "    if cell_selected == 0:\n",
    "        continue\n",
    "    else:\n",
    "        cell_selected = int(cell_selected - 1)\n",
    "        num_events[i] = np.sum(mat_spikes[:,cell_selected] > 0)\n",
    "        \n",
    "sorted_cells = np.argsort(-num_events)"
   ]
  },
  {
   "cell_type": "code",
   "execution_count": 90,
   "id": "3f0f1f1a-80a6-4d7e-8660-1cfd5f374d37",
   "metadata": {},
   "outputs": [],
   "source": [
    "for env in ['t_maze', 'y_maze']:\n",
    "\n",
    "    path_plots = os.path.join(data_dir, '..', 'plots', 'cell_across_days', 'CA1', env)\n",
    "    os.makedirs(path_plots, exist_ok=True)\n",
    "\n",
    "    cursor = 0\n",
    "    for cell_ID in sorted_cells[:50]:\n",
    "\n",
    "        plt.figure(figsize = (14,8))\n",
    "        plt.suptitle('Cell: ' + str(cell_ID))\n",
    "\n",
    "        for i,animal in enumerate(list_animals):\n",
    "            plt.subplot(2, len(list_animal), i+1)\n",
    "            cell_daily_mat = int(mat_reg[i,cell_ID] - 1)\n",
    "            loadAll(animal)\n",
    "            plotArm(getEventRate(env, cell_daily_mat))\n",
    "            plt.title('Session ' + str(i+1))\n",
    "            a,b = plt.xlim()\n",
    "            plt.xlim(a - (b-a)*0.15, b + (b-a)*0.15)        \n",
    "            a,b = plt.ylim()\n",
    "            plt.ylim(a - (b-a)*0.15, b + (b-a)*0.15)\n",
    "\n",
    "            plt.subplot(2, len(list_animal), i+1+len(list_animal))\n",
    "            sub_meta = meta_spikes.query('environment == @env')\n",
    "            for sess in pd.unique(sub_meta['session']):\n",
    "                xoff = 0\n",
    "                yoff = 0\n",
    "                if 'offset' in dict_meta.keys():\n",
    "                     if sess in dict_meta['offset'].keys():\n",
    "                            xoff = dict_meta['offset'][sess]['x']\n",
    "                            yoff = dict_meta['offset'][sess]['y']\n",
    "                cur_meta = sub_meta.query('session == @sess')\n",
    "                plt.plot(cur_meta['x']+xoff, cur_meta['y']+yoff, c = 'darkgray')   \n",
    "                \n",
    "                spikes = np.where(mat_spikes[cur_meta.index,cell_daily_mat] > 0)[0]\n",
    "                plt.scatter(cur_meta.iloc[spikes]['x']+xoff, cur_meta.iloc[spikes]['y']+yoff, zorder = 10, c = 'r')\n",
    "\n",
    "            plt.axis('off')\n",
    "            plt.gca().invert_yaxis()\n",
    "            plt.gca().set_aspect('equal')\n",
    "        plt.savefig(os.path.join(path_plots, 'cell_' + str(cursor).zfill(4) + '.png'))\n",
    "        cursor += 1\n",
    "        plt.close()"
   ]
  }
 ],
 "metadata": {
  "kernelspec": {
   "display_name": "Python 3 (ipykernel)",
   "language": "python",
   "name": "python3"
  },
  "language_info": {
   "codemirror_mode": {
    "name": "ipython",
    "version": 3
   },
   "file_extension": ".py",
   "mimetype": "text/x-python",
   "name": "python",
   "nbconvert_exporter": "python",
   "pygments_lexer": "ipython3",
   "version": "3.9.7"
  }
 },
 "nbformat": 4,
 "nbformat_minor": 5
}
