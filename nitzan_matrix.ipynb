{
 "cells": [
  {
   "cell_type": "markdown",
   "id": "9b7f6bd2-af9e-4ada-a289-e665fe887565",
   "metadata": {},
   "source": [
    "# General imports/paths"
   ]
  },
  {
   "cell_type": "markdown",
   "id": "4d0f4629-3f30-4405-a81f-9c0c121608d5",
   "metadata": {},
   "source": [
    "## Import"
   ]
  },
  {
   "cell_type": "code",
   "execution_count": 1,
   "id": "f3ef2a0c-aa02-4087-bd1b-777509b89fa8",
   "metadata": {},
   "outputs": [],
   "source": [
    "import os\n",
    "import sys\n",
    "import numpy as np\n",
    "import pandas as pd\n",
    "import matplotlib.pyplot as plt\n",
    "import h5py\n",
    "from scipy.sparse import csr_matrix\n",
    "import pickle\n",
    "from shapely.geometry import Point\n",
    "from shapely.geometry import LineString\n",
    "import seaborn as sns\n",
    "from scipy.stats.stats import pearsonr   "
   ]
  },
  {
   "cell_type": "markdown",
   "id": "872383d7-97a3-4c8b-a619-eaaa58061a97",
   "metadata": {},
   "source": [
    "## Paths"
   ]
  },
  {
   "cell_type": "code",
   "execution_count": 2,
   "id": "991cf11d-80d7-447e-bbb2-f3a3a6a1281b",
   "metadata": {},
   "outputs": [],
   "source": [
    "data_dir = 'C:/Users/cortiz/Projects/inscopix_project_cajal/data'\n",
    "list_animals = ['20211204/mouse_01_CA1','20211206/mouse_01_CA1','20211207/mouse_01_CA1']\n",
    "path_registration_file = os.path.join(data_dir, 'cellRegistered_M1_CA1.mat')"
   ]
  },
  {
   "cell_type": "markdown",
   "id": "19c831fd-bdcb-40ff-b595-609f1b3824ee",
   "metadata": {},
   "source": [
    "## Functions"
   ]
  },
  {
   "cell_type": "code",
   "execution_count": 3,
   "id": "cee7e959-819c-4b08-916f-d7c57d42527f",
   "metadata": {},
   "outputs": [],
   "source": [
    "def loadAll(animal):\n",
    "    \n",
    "    global meta_spikes, df_dlc, mat_spikes, df_frames, dict_meta, reference_points, path_pickle, path_table, path_mat_spikes, cur_dir\n",
    "    \n",
    "    cur_dir = os.path.join(data_dir, animal)\n",
    "    path_table = os.path.join(cur_dir, 'behavior', 'table_cut.csv')\n",
    "    path_mat_spikes = os.path.join(cur_dir, 'spikes', 'finalSpikesMat.mat')    \n",
    "    path_pickle = os.path.join(cur_dir, 'pickle')\n",
    "    \n",
    "    with open(os.path.join(path_pickle, 'meta_spikes.pck'), 'rb') as f:\n",
    "        meta_spikes = pickle.load(f)\n",
    "    with open(os.path.join(path_pickle, 'df_dlc_projections.pck'), 'rb') as f:\n",
    "        df_dlc = pickle.load(f)\n",
    "    with open(os.path.join(path_pickle, 'mat_spikes.pck'), 'rb') as f:\n",
    "        mat_spikes = pickle.load(f)\n",
    "    with open(os.path.join(path_pickle, 'df_frames.pck'), 'rb') as f:\n",
    "        df_frames = pickle.load(f)\n",
    "    with open(os.path.join(path_pickle, 'dict_meta.pck'), 'rb') as f:\n",
    "        dict_meta = pickle.load(f)\n",
    "    with open(os.path.join(path_pickle, 'reference_points.pck'), 'rb') as f:\n",
    "        reference_points = pickle.load(f)\n",
    "        \n",
    "    df_dlc_axis = df_dlc[['closest_arm', 'projection', 'environment']]\n",
    "    meta_spikes = meta_spikes.join(df_dlc_axis, on = 'behavioral_frame')\n",
    "    "
   ]
  },
  {
   "cell_type": "markdown",
   "id": "b59cda59-4341-4ba6-aae3-db731437aa1e",
   "metadata": {},
   "source": [
    "# Loading registration"
   ]
  },
  {
   "cell_type": "code",
   "execution_count": 4,
   "id": "687ceee8-0e78-4b96-aa11-a8cbe87b6d6c",
   "metadata": {},
   "outputs": [],
   "source": [
    "with h5py.File(path_registration_file, 'r') as f:\n",
    "    mat_reg = np.array(f['cell_registered_struct']['cell_to_index_map'])"
   ]
  },
  {
   "cell_type": "markdown",
   "id": "d18ba786-b2f2-4d0a-ad0e-49efc0675448",
   "metadata": {},
   "source": [
    "# Functions"
   ]
  },
  {
   "cell_type": "code",
   "execution_count": 5,
   "id": "e2c5cb15-5bc6-4cc8-a05c-00feeb61e26d",
   "metadata": {},
   "outputs": [],
   "source": [
    "list_vect_rate = list()\n",
    "\n",
    "for i,animal in enumerate(list_animals):\n",
    "    \n",
    "    loadAll(animal)\n",
    "    \n",
    "    for env in ['t_maze', 'y_maze', 'open_field']:\n",
    "        \n",
    "        cur_meta = meta_spikes.query('environment == @env')\n",
    "        vect_rate = np.zeros(mat_reg.shape[1])\n",
    "        \n",
    "        for j,r in enumerate(mat_reg.T):\n",
    "            \n",
    "            cur_cell = int(r[i]-1)\n",
    "            \n",
    "            if cur_cell == -1:\n",
    "                continue\n",
    "                \n",
    "            val = np.sum(mat_spikes[cur_meta.index, cur_cell] > 0)  \n",
    "            vect_rate[j] = val\n",
    "            \n",
    "        list_vect_rate.append(vect_rate)"
   ]
  },
  {
   "cell_type": "markdown",
   "id": "aa002f50-6ff9-453d-afda-f076e43681e0",
   "metadata": {},
   "source": [
    "## Across registration"
   ]
  },
  {
   "cell_type": "code",
   "execution_count": 6,
   "id": "2d26d1c3-1831-4cc0-a720-92c07ca130af",
   "metadata": {},
   "outputs": [
    {
     "data": {
      "image/png": "[encoded data removed]",
      "text/plain": [
       "<Figure size 576x576 with 2 Axes>"
      ]
     },
     "metadata": {
      "needs_background": "light"
     },
     "output_type": "display_data"
    }
   ],
   "source": [
    "path_plot = os.path.join(data_dir, '..', 'plots', 'correlation_matrix')\n",
    "os.makedirs(path_plot, exist_ok=True)\n",
    "\n",
    "plt.figure(figsize = (8,8))\n",
    "mat_corr = np.zeros(shape = (len(list_vect_rate), len(list_vect_rate)))\n",
    "for i in range(0,mat_corr.shape[0]):\n",
    "    for j in range(0,mat_corr.shape[0]):\n",
    "        if i == j:\n",
    "            mat_corr[i,j] = None\n",
    "        else:\n",
    "            mat_corr[i,j] = pearsonr(list_vect_rate[i], list_vect_rate[j])[0]\n",
    "ax = plt.imshow(mat_corr[0:,0:])\n",
    "plt.colorbar(ax, label = 'Pearson colleration')\n",
    "_ = plt.xticks(range(9), labels = ['T', 'Y', 'OF', 'T', 'Y', 'OF','T', 'Y', 'OF'])\n",
    "_ = plt.yticks(range(9), labels = ['T', 'Y', 'OF', 'T', 'Y', 'OF','T', 'Y', 'OF'])\n",
    "plt.axhline(2.5, c = 'w')\n",
    "plt.axhline(5.5, c = 'w')\n",
    "plt.axvline(2.5, c = 'w')\n",
    "plt.axvline(5.5, c = 'w')\n",
    "plt.savefig(os.path.join(path_plot, 'correlation_all_cells.png'), dpi = 300)"
   ]
  },
  {
   "cell_type": "code",
   "execution_count": 7,
   "id": "c893bd45-3aca-494a-bb23-6dfd2dfff14d",
   "metadata": {},
   "outputs": [
    {
     "data": {
      "image/png": "[encoded data removed]",
      "text/plain": [
       "<Figure size 432x288 with 1 Axes>"
      ]
     },
     "metadata": {
      "needs_background": "light"
     },
     "output_type": "display_data"
    }
   ],
   "source": [
    "n_cells = list()\n",
    "for animal in list_animals:\n",
    "    loadAll(animal)\n",
    "    n_cells.append(mat_spikes.shape[1])\n",
    "plt.plot(range(1,4), n_cells, c = 'k', marker = 'o')\n",
    "plt.ylabel('Number of cells')\n",
    "plt.xlabel('Session')\n",
    "plt.xticks([1,2,3])\n",
    "plt.gca().spines['top'].set_visible(False)\n",
    "plt.gca().spines['right'].set_visible(False)\n",
    "plt.savefig(os.path.join(path_plot, 'number_cells.png'), dpi = 300)"
   ]
  },
  {
   "cell_type": "markdown",
   "id": "ed78ecdd-c8ed-46a3-8e92-41704676da37",
   "metadata": {},
   "source": [
    "## Only valid cells (expressed very day)"
   ]
  },
  {
   "cell_type": "code",
   "execution_count": 8,
   "id": "f5727ad9-b788-4a43-89b7-4b742c948055",
   "metadata": {},
   "outputs": [
    {
     "data": {
      "image/png": "[encoded data removed]",
      "text/plain": [
       "<Figure size 576x576 with 2 Axes>"
      ]
     },
     "metadata": {
      "needs_background": "light"
     },
     "output_type": "display_data"
    }
   ],
   "source": [
    "is_cell_valid = np.array(np.zeros(len(vect_rate), dtype = 'bool'))\n",
    "\n",
    "for i,r in enumerate(mat_reg.T):\n",
    "    if all(r != 0):\n",
    "        is_cell_valid[i] = True\n",
    "        \n",
    "plt.figure(figsize = (8,8))\n",
    "mat_corr = np.zeros(shape = (len(list_vect_rate), len(list_vect_rate)))\n",
    "for i in range(0,mat_corr.shape[0]):\n",
    "    for j in range(0,mat_corr.shape[0]):\n",
    "        if i == j:\n",
    "            mat_corr[i,j] = None\n",
    "        else:\n",
    "            mat_corr[i,j] = pearsonr(list_vect_rate[i][is_cell_valid], list_vect_rate[j][is_cell_valid])[0]\n",
    "ax = plt.imshow(mat_corr[0:,0:])\n",
    "plt.colorbar(ax, label = 'Pearson colleration')\n",
    "_ = plt.xticks(range(9), labels = ['T', 'Y', 'OF', 'T', 'Y', 'OF','T', 'Y', 'OF'])\n",
    "_ = plt.yticks(range(9), labels = ['T', 'Y', 'OF', 'T', 'Y', 'OF','T', 'Y', 'OF'])\n",
    "plt.axhline(2.5, c = 'w')\n",
    "plt.axhline(5.5, c = 'w')\n",
    "plt.axvline(2.5, c = 'w')\n",
    "plt.axvline(5.5, c = 'w')\n",
    "plt.savefig(os.path.join(path_plot, 'correlation_all_days.png'), dpi = 300)"
   ]
  },
  {
   "cell_type": "code",
   "execution_count": null,
   "id": "00c61e1f-b55a-4051-9c7a-5bd14a53f63a",
   "metadata": {},
   "outputs": [],
   "source": []
  }
 ],
 "metadata": {
  "kernelspec": {
   "display_name": "Python 3 (ipykernel)",
   "language": "python",
   "name": "python3"
  },
  "language_info": {
   "codemirror_mode": {
    "name": "ipython",
    "version": 3
   },
   "file_extension": ".py",
   "mimetype": "text/x-python",
   "name": "python",
   "nbconvert_exporter": "python",
   "pygments_lexer": "ipython3",
   "version": "3.9.7"
  }
 },
 "nbformat": 4,
 "nbformat_minor": 5
}
