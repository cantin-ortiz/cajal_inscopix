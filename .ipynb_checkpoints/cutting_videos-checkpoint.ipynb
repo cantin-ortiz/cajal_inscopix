{
 "cells": [
  {
   "cell_type": "code",
   "execution_count": 1,
   "id": "f3ef2a0c-aa02-4087-bd1b-777509b89fa8",
   "metadata": {},
   "outputs": [],
   "source": [
    "import os\n",
    "import sys\n",
    "import numpy as np\n",
    "import cv2 as cv\n",
    "import time\n",
    "import pandas as pd\n",
    "import matplotlib.pyplot as plt"
   ]
  },
  {
   "cell_type": "code",
   "execution_count": 2,
   "id": "991cf11d-80d7-447e-bbb2-f3a3a6a1281b",
   "metadata": {},
   "outputs": [],
   "source": [
    "path_videos = 'C:/Users/cortiz/Projects/inscopix_project_cajal/data/20211207/mouse_01_CA1/behavior'\n",
    "path_table = os.path.join(path_videos, 'table_cut.csv')"
   ]
  },
  {
   "cell_type": "code",
   "execution_count": 3,
   "id": "b303ff8a-079c-4876-b3a4-a34eb4f5db43",
   "metadata": {},
   "outputs": [],
   "source": [
    "if os.path.exists(path_table):\n",
    "    df = pd.read_csv(path_table, index_col = 0)\n",
    "else:\n",
    "    df = pd.DataFrame(columns = ['file', 'path', 'start_frame', 'end_frame'])"
   ]
  },
  {
   "cell_type": "code",
   "execution_count": 4,
   "id": "2034e69a-ea3f-4184-af71-41facefc27df",
   "metadata": {},
   "outputs": [],
   "source": [
    "list_videos = np.array(os.listdir(path_videos))\n",
    "list_videos = list_videos[[s.endswith('.mp4') for s in list_videos]]\n",
    "list_videos = list_videos[[s not in np.array(df['file']) for s in list_videos]]"
   ]
  },
  {
   "cell_type": "code",
   "execution_count": 5,
   "id": "b36b3e8e-0975-4b96-94eb-f306dc1f6007",
   "metadata": {},
   "outputs": [],
   "source": [
    "if len(list_videos) == 0:\n",
    "    sys.exit('All videos have been cut already.')\n",
    "vid = list_videos[0]\n",
    "cur_vid = os.path.join(path_videos, vid)"
   ]
  },
  {
   "cell_type": "code",
   "execution_count": 6,
   "id": "cc9d6879-6f99-4f52-9e5e-f998bdee2f12",
   "metadata": {},
   "outputs": [
    {
     "name": "stdout",
     "output_type": "stream",
     "text": [
      "Wall time: 3.89 s\n"
     ]
    }
   ],
   "source": [
    "%%time\n",
    "list_frames = list()\n",
    "cap = cv.VideoCapture(cur_vid)\n",
    "list_frames = list()\n",
    "while cap.isOpened():\n",
    "    ret, frame = cap.read()   \n",
    "    if not ret:\n",
    "        break\n",
    "    list_frames.append(frame)\n",
    "cap.release()\n",
    "cv.destroyAllWindows()"
   ]
  },
  {
   "cell_type": "code",
   "execution_count": null,
   "id": "889d57f7-962d-4c6b-b15b-7851bdabc666",
   "metadata": {},
   "outputs": [
    {
     "name": "stdout",
     "output_type": "stream",
     "text": [
      "Start frame value: 56\n"
     ]
    }
   ],
   "source": [
    "cursor = 0\n",
    "show_frame = True\n",
    "start_frame = None\n",
    "end_frame = None\n",
    "\n",
    "while True:\n",
    "    if show_frame:\n",
    "        cv.imshow('frame', list_frames[cursor])\n",
    "        show_frame = False\n",
    "    v = cv.waitKey(1)\n",
    "    if v == ord('q'):\n",
    "        break\n",
    "    if v == ord('n'):\n",
    "        cursor = np.min([len(list_frames)-1, cursor + 1])\n",
    "        show_frame = True\n",
    "    if v == ord('p'):\n",
    "        cursor = np.max([0, cursor - 1])\n",
    "        show_frame = True\n",
    "    if v == ord('s'):\n",
    "        start_frame = cursor\n",
    "        print('Start frame value: ' + str(start_frame))\n",
    "        cursor = len(list_frames)-1\n",
    "        show_frame = True\n",
    "    if v == ord('e') and start_frame is not None:        \n",
    "        end_frame = cursor\n",
    "        print('End frame value: ' + str(end_frame))\n",
    "        cursor = len(list_frames)-1\n",
    "        break\n",
    "cap.release()\n",
    "cv.destroyAllWindows()"
   ]
  },
  {
   "cell_type": "code",
   "execution_count": null,
   "id": "089dc66a-625e-4e87-8b2f-ddca5f0332a8",
   "metadata": {},
   "outputs": [],
   "source": [
    "crop_x = [100,200]\n",
    "crop_y = [175,275]\n",
    "\n",
    "plt.figure(figsize = (10,10))\n",
    "plt.subplot(2,2,1)\n",
    "plt.imshow(list_frames[start_frame-1])\n",
    "plt.title('One to first frame(' + str(start_frame - 1) + ')')\n",
    "plt.xlim(crop_x)\n",
    "plt.ylim(crop_y)\n",
    "plt.subplot(2,2,2)\n",
    "plt.imshow(list_frames[start_frame])\n",
    "plt.title('First frame (' + str(start_frame) + ')')\n",
    "plt.xlim(crop_x)\n",
    "plt.ylim(crop_y)\n",
    "plt.subplot(2,2,3)\n",
    "plt.imshow(list_frames[end_frame])\n",
    "plt.title('Last frame (' + str(end_frame) + ')')\n",
    "plt.xlim(crop_x)\n",
    "plt.ylim(crop_y)\n",
    "plt.subplot(2,2,4)\n",
    "plt.imshow(list_frames[end_frame+1])\n",
    "plt.title('After last frame(' + str(end_frame + 1) + ')')\n",
    "plt.xlim(crop_x)\n",
    "plt.ylim(crop_y)\n",
    "plt.savefig(cur_vid.split('.')[0] + '.pdf')\n",
    "df = df.append({'file': vid, 'path': path_videos, 'start_frame': start_frame, 'end_frame': end_frame}, ignore_index=True)\n",
    "df.to_csv(path_table)"
   ]
  }
 ],
 "metadata": {
  "kernelspec": {
   "display_name": "Python 3 (ipykernel)",
   "language": "python",
   "name": "python3"
  },
  "language_info": {
   "codemirror_mode": {
    "name": "ipython",
    "version": 3
   },
   "file_extension": ".py",
   "mimetype": "text/x-python",
   "name": "python",
   "nbconvert_exporter": "python",
   "pygments_lexer": "ipython3",
   "version": "3.9.7"
  }
 },
 "nbformat": 4,
 "nbformat_minor": 5
}
