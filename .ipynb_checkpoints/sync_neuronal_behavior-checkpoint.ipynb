{
 "cells": [
  {
   "cell_type": "markdown",
   "id": "4d0f4629-3f30-4405-a81f-9c0c121608d5",
   "metadata": {},
   "source": [
    "# Importing libraries"
   ]
  },
  {
   "cell_type": "code",
   "execution_count": null,
   "id": "f3ef2a0c-aa02-4087-bd1b-777509b89fa8",
   "metadata": {
    "tags": []
   },
   "outputs": [],
   "source": [
    "import os\n",
    "import sys\n",
    "import numpy as np\n",
    "import pandas as pd\n",
    "import matplotlib.pyplot as plt\n",
    "import h5py\n",
    "from scipy.sparse import csr_matrix\n",
    "import pickle\n",
    "import cv2 as cv\n",
    "# import time"
   ]
  },
  {
   "cell_type": "markdown",
   "id": "b59cda59-4341-4ba6-aae3-db731437aa1e",
   "metadata": {},
   "source": [
    "# Parameters"
   ]
  },
  {
   "cell_type": "code",
   "execution_count": null,
   "id": "26fa0dd5-0ebd-4248-9362-5fa6498b87eb",
   "metadata": {},
   "outputs": [],
   "source": [
    "# cur_dir = 'C:/Users/cortiz/Projects/inscopix_project_cajal/data/20211206/mouse_02_IL'\n",
    "# dict_meta = {'framerate_inscopix': 20,\n",
    "#              'framerate_behavior': 15,\n",
    "#              'frame_count': np.array([3641,3773,3800,3691,3867,4254,3945,3793,3946,3647,3721,3682]),\n",
    "#              'discard_sessions': np.array([8]),\n",
    "#              'dict_env': {'t_maze': [0,4,6,9],\n",
    "#                           'y_maze': [1,3,7,8],\n",
    "#                           'open_field': [2,5,10]}\n",
    "#             }\n",
    "\n",
    "# cur_dir = 'C:/Users/cortiz/Projects/inscopix_project_cajal/data/20211204/mouse_01_CA1'\n",
    "# dict_meta = {'framerate_inscopix': 10,\n",
    "#              'framerate_behavior': 15,\n",
    "#              'frame_count': np.array([2102,2054,1896,2011,1948,1859,1852,1838,1870,1945,1891,1897]),\n",
    "#              'discard_sessions': np.array([]),\n",
    "#              'dict_env': {'t_maze': [1,3,7,9],\n",
    "#                           'y_maze': [0,4,6,10],\n",
    "#                           'open_field': [2,5,8,11]}\n",
    "#             }\n",
    "\n",
    "# cur_dir = 'C:/Users/cortiz/Projects/inscopix_project_cajal/data/20211204/mouse_02_IL'\n",
    "# dict_meta = {'framerate_inscopix': 20,\n",
    "#              'framerate_behavior': 15,\n",
    "#              'frame_count': np.array([4015, 3709, 3872, 3715, 3737, 3752, 4344, 3698, 4628, 3801, 3770, 3774]),\n",
    "#              'discard_sessions': np.array([8,9]),\n",
    "#              'dict_env': {'t_maze': [0, 3, 6],\n",
    "#                           'y_maze': [1, 4, 7, 8],\n",
    "#                           'open_field': [2, 5, 9]}\n",
    "#             }\n",
    "\n",
    "path_table = os.path.join(cur_dir, 'behavior', 'table_cut.csv')\n",
    "path_mat_spikes = os.path.join(cur_dir, 'spikes', 'finalSpikesMat.mat')"
   ]
  },
  {
   "cell_type": "markdown",
   "id": "d18ba786-b2f2-4d0a-ad0e-49efc0675448",
   "metadata": {},
   "source": [
    "# Loading files"
   ]
  },
  {
   "cell_type": "markdown",
   "id": "5f8669ca-316e-4c91-8163-e7ea133809c5",
   "metadata": {},
   "source": [
    "## Table frames"
   ]
  },
  {
   "cell_type": "code",
   "execution_count": null,
   "id": "b303ff8a-079c-4876-b3a4-a34eb4f5db43",
   "metadata": {},
   "outputs": [],
   "source": [
    "df_frames = pd.read_csv(path_table, index_col = 0)\n",
    "df_frames['session'] = ''\n",
    "for i,r in df_frames.iterrows():\n",
    "    df_frames.loc[i, 'session'] = df_frames.loc[i, 'file'].split('.')[0]"
   ]
  },
  {
   "cell_type": "markdown",
   "id": "e36e9a11-16cf-4005-a0b8-20cd0a792261",
   "metadata": {},
   "source": [
    "## Matrix spikes"
   ]
  },
  {
   "cell_type": "markdown",
   "id": "96bf4890-b340-4628-b67b-1868d2452d50",
   "metadata": {},
   "source": [
    "### Loading"
   ]
  },
  {
   "cell_type": "code",
   "execution_count": null,
   "id": "93f66d88-bbda-47d7-abec-dd2ff3533d14",
   "metadata": {},
   "outputs": [],
   "source": [
    "with h5py.File(path_mat_spikes, 'r') as f:\n",
    "    mat_spikes = csr_matrix((f['finalSpikesMat']['data'], f['finalSpikesMat']['ir'], f['finalSpikesMat']['jc']))\n",
    "    mat_spikes = mat_spikes.toarray()"
   ]
  },
  {
   "cell_type": "markdown",
   "id": "39701984-5938-4b84-aefd-90b5353b15f1",
   "metadata": {},
   "source": [
    "### Plotting first neurons for sanity check"
   ]
  },
  {
   "cell_type": "code",
   "execution_count": null,
   "id": "01419fbe-5553-41af-86ce-ea1c4b26c946",
   "metadata": {},
   "outputs": [],
   "source": [
    "plt.figure(figsize = (10,7))\n",
    "for (i,r) in enumerate(mat_spikes.T):\n",
    "    if i > 20:\n",
    "        break\n",
    "    spikes = np.where(r)[0]\n",
    "    plt.scatter(spikes/dict_meta['framerate_inscopix'], [i] * len(spikes))\n",
    "print(mat_spikes.shape)"
   ]
  },
  {
   "cell_type": "markdown",
   "id": "21797a2d-018c-4cc1-8837-f5aeffcb3150",
   "metadata": {},
   "source": [
    "### Getting recording ratios"
   ]
  },
  {
   "cell_type": "code",
   "execution_count": null,
   "id": "26f78b7d-7dff-43b7-878d-bfeb2432a043",
   "metadata": {},
   "outputs": [],
   "source": [
    "meta_spikes = pd.DataFrame(index = range(mat_spikes.shape[0]), columns = ['session', 'frame_number', 'frame_ratio'])\n",
    "\n",
    "cursor = 0\n",
    "cur_session = -1\n",
    "for i, fcount in enumerate(dict_meta['frame_count']):\n",
    "    \n",
    "    end_cursor = cursor + fcount - 1\n",
    "    if i in dict_meta['discard_sessions']:\n",
    "        session_label = 'discarded' \n",
    "    else:\n",
    "        cur_session += 1\n",
    "        session_label = df_frames.loc[cur_session, 'file'].split('.')[0]\n",
    "        \n",
    "    meta_spikes.loc[cursor:end_cursor, 'session'] = session_label\n",
    "    meta_spikes.loc[cursor:end_cursor, 'frame_number'] = range(fcount)\n",
    "    meta_spikes.loc[cursor:end_cursor, 'recording_ratio'] = meta_spikes.loc[cursor:end_cursor, 'frame_number'] / (fcount - 1)\n",
    "    cursor += fcount\n",
    "\n",
    "from collections import Counter\n",
    "print(Counter(meta_spikes['session']))\n",
    "meta_spikes"
   ]
  },
  {
   "cell_type": "markdown",
   "id": "0058e756-e443-476e-91f1-680013658c46",
   "metadata": {},
   "source": [
    "## Deep lab cut"
   ]
  },
  {
   "cell_type": "markdown",
   "id": "51caa71b-1bd0-44d4-8417-c8d5b8fa8f27",
   "metadata": {},
   "source": [
    "### Loading"
   ]
  },
  {
   "cell_type": "code",
   "execution_count": null,
   "id": "e0eed6f8-2ae1-4d9a-8434-4ddde2345db5",
   "metadata": {},
   "outputs": [],
   "source": [
    "dlc_files = np.array(os.listdir(os.path.join(cur_dir, 'dlc')))\n",
    "dlc_files = dlc_files[[s.endswith('filtered.csv') for s in dlc_files]]\n",
    "if len(dlc_files) != 1:\n",
    "    sys.exit('There should be only one DLC file, this is not the case')\n",
    "dlc_files = dlc_files[0]\n",
    "df_dlc = pd.read_csv(os.path.join(cur_dir, 'dlc', dlc_files), skiprows = 2, index_col = 0)\n",
    "df_dlc['xc'] = 0\n",
    "df_dlc['yc'] = 0\n",
    "for i,r in df_dlc.iterrows():\n",
    "    df_dlc.loc[i, 'xc'] = np.mean([r['x'], r['x.1'], r['x.2'], r['x.3']])\n",
    "    df_dlc.loc[i, 'yc'] = np.mean([r['y'], r['y.1'], r['y.2'], r['y.3']])\n",
    "df_dlc"
   ]
  },
  {
   "cell_type": "markdown",
   "id": "1066b271-cc15-4539-8ad2-62e49b0cea88",
   "metadata": {},
   "source": [
    "### Getting recoridng and ts"
   ]
  },
  {
   "cell_type": "code",
   "execution_count": null,
   "id": "615635b9-677e-49b9-837c-312139aec120",
   "metadata": {},
   "outputs": [],
   "source": [
    "df_dlc['session'] = ''\n",
    "df_dlc['frame_number'] = 0\n",
    "df_dlc['recording_ratio'] = 0\n",
    "cursor = 0\n",
    "for i,r in df_frames.iterrows():\n",
    "    end_cursor = cursor+r['end_frame']-r['start_frame'] \n",
    "    df_dlc.loc[cursor:end_cursor, 'session'] = r['file'].split('.')[0]\n",
    "    df_dlc.loc[cursor:end_cursor, 'frame_number'] = range(r['end_frame'] - r['start_frame'] + 1)\n",
    "    df_dlc.loc[cursor:end_cursor, 'recording_ratio'] = df_dlc.loc[cursor:end_cursor, 'frame_number'] / (r['end_frame'] - r['start_frame'])\n",
    "    cursor += (r['end_frame'] - r['start_frame'] + 1)"
   ]
  },
  {
   "cell_type": "markdown",
   "id": "7e131eea-84ba-4a7d-badf-e0869a2237f3",
   "metadata": {},
   "source": [
    "### Matching spikes to behavioral frames"
   ]
  },
  {
   "cell_type": "code",
   "execution_count": null,
   "id": "90aed172-6341-4f89-8d7f-7e0b6b1b4c54",
   "metadata": {},
   "outputs": [],
   "source": [
    "meta_spikes['behavioral_frame'] = -1\n",
    "meta_spikes['x'] = 0\n",
    "meta_spikes['y'] = 0\n",
    "\n",
    "for i,r in meta_spikes.iterrows():\n",
    "    cur_session = r['session']\n",
    "    if r['session'] == 'discarded':\n",
    "        continue\n",
    "    sub_df_dlc = df_dlc.query('session == @cur_session')    \n",
    "    meta_spikes.loc[i,'behavioral_frame'] = sub_df_dlc.index[np.argmin(np.abs(r['recording_ratio'] - sub_df_dlc['recording_ratio']))]\n",
    "    meta_spikes.loc[i,'x'] = df_dlc.loc[meta_spikes.loc[i, 'behavioral_frame']]['xc']\n",
    "    meta_spikes.loc[i,'y'] = df_dlc.loc[meta_spikes.loc[i, 'behavioral_frame']]['yc']\n",
    "    if i%1000 == 0:\n",
    "        print('%05d/%d' % (i, meta_spikes.shape[0]))"
   ]
  },
  {
   "cell_type": "code",
   "execution_count": null,
   "id": "d8230f81-f3c2-4445-8c38-2039ea09d2c6",
   "metadata": {},
   "outputs": [],
   "source": [
    "meta_spikes"
   ]
  },
  {
   "cell_type": "markdown",
   "id": "1103ad26-baa4-4f95-a6b8-0dffe63fc0c4",
   "metadata": {},
   "source": [
    "### Checking offset between recordings"
   ]
  },
  {
   "cell_type": "code",
   "execution_count": null,
   "id": "bf7b4219-f199-48c9-b00f-69b8c3db13e5",
   "metadata": {},
   "outputs": [],
   "source": [
    "duration_inscopix = (np.sum(dict_meta['frame_count']) - np.sum([dict_meta['frame_count'][idx] for idx in dict_meta['discard_sessions']])) / dict_meta['framerate_inscopix']\n",
    "duration_behavior = df_dlc.shape[0] / dict_meta['framerate_behavior']\n",
    "time_diff = np.abs(duration_inscopix - duration_behavior)\n",
    "avg_shit_session = time_diff / len(pd.unique(df_dlc['session']))\n",
    "print('Duration behavior: %.2fs\\nDuration inscopix: %.2fs\\nTime difference: %.2fs\\nAverage shift per session: %.2fs' % (duration_behavior, duration_inscopix, time_diff, avg_shit_session))"
   ]
  },
  {
   "cell_type": "markdown",
   "id": "29b0f8c2-ea19-4148-a239-c9e20d1d2b43",
   "metadata": {},
   "source": [
    "# Saving"
   ]
  },
  {
   "cell_type": "code",
   "execution_count": null,
   "id": "740f53ec-fbb2-4b5d-9855-603d7fd1c416",
   "metadata": {},
   "outputs": [],
   "source": [
    "os.makedirs(os.path.join(cur_dir, 'pickle'), exist_ok=False)\n",
    "with open(os.path.join(cur_dir, 'pickle', 'meta_spikes.pck'), 'wb') as f:\n",
    "    pickle.dump(meta_spikes, f)\n",
    "with open(os.path.join(cur_dir, 'pickle', 'df_dlc.pck'), 'wb') as f:\n",
    "    pickle.dump(df_dlc, f)\n",
    "with open(os.path.join(cur_dir, 'pickle', 'df_frames.pck'), 'wb') as f:\n",
    "    pickle.dump(df_frames, f)    \n",
    "with open(os.path.join(cur_dir, 'pickle', 'mat_spikes.pck'), 'wb') as f:\n",
    "    pickle.dump(mat_spikes, f)  \n",
    "with open(os.path.join(cur_dir, 'pickle', 'dict_meta.pck'), 'wb') as f:\n",
    "    pickle.dump(dict_meta, f)"
   ]
  }
 ],
 "metadata": {
  "kernelspec": {
   "display_name": "Python 3 (ipykernel)",
   "language": "python",
   "name": "python3"
  },
  "language_info": {
   "codemirror_mode": {
    "name": "ipython",
    "version": 3
   },
   "file_extension": ".py",
   "mimetype": "text/x-python",
   "name": "python",
   "nbconvert_exporter": "python",
   "pygments_lexer": "ipython3",
   "version": "3.9.7"
  }
 },
 "nbformat": 4,
 "nbformat_minor": 5
}
