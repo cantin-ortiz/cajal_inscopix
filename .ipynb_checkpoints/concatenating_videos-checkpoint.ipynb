{
 "cells": [
  {
   "cell_type": "code",
   "execution_count": 1,
   "id": "f3ef2a0c-aa02-4087-bd1b-777509b89fa8",
   "metadata": {},
   "outputs": [],
   "source": [
    "import os\n",
    "import sys\n",
    "import numpy as np\n",
    "import cv2 as cv\n",
    "import time\n",
    "import pandas as pd\n",
    "import matplotlib.pyplot as plt"
   ]
  },
  {
   "cell_type": "code",
   "execution_count": 2,
   "id": "991cf11d-80d7-447e-bbb2-f3a3a6a1281b",
   "metadata": {},
   "outputs": [],
   "source": [
    "path_videos = 'C:/Users/cortiz/Projects/inscopix_project_cajal/data/20211207/mouse_01_CA1/behavior'\n",
    "path_table = os.path.join(path_videos, 'table_cut.csv')"
   ]
  },
  {
   "cell_type": "code",
   "execution_count": 3,
   "id": "5e2ffa85-973d-4f85-aca8-ed42c61a4932",
   "metadata": {},
   "outputs": [
    {
     "data": {
      "text/plain": [
       "'behavior_20211207_mouse_01_CA1.avi'"
      ]
     },
     "execution_count": 3,
     "metadata": {},
     "output_type": "execute_result"
    }
   ],
   "source": [
    "split_path = path_videos.split('/')\n",
    "fname = 'behavior_' + split_path[-3] + '_' + split_path[-2] + '.avi'\n",
    "fname"
   ]
  },
  {
   "cell_type": "code",
   "execution_count": 4,
   "id": "b303ff8a-079c-4876-b3a4-a34eb4f5db43",
   "metadata": {},
   "outputs": [],
   "source": [
    "df = pd.read_csv(path_table, index_col = 0)"
   ]
  },
  {
   "cell_type": "code",
   "execution_count": 5,
   "id": "00f872ed-ce28-4a1d-be85-7f7df9ba5045",
   "metadata": {
    "tags": []
   },
   "outputs": [],
   "source": [
    "cap = cv.VideoCapture(os.path.join(df.iloc[0]['path'], df.iloc[0]['file']))\n",
    "# Set up format of concatenated video (*'XVID' will produce FFV1 format)\n",
    "fourcc = cv.VideoWriter_fourcc(*'XVID')    \n",
    "# Initialize VideoWriter object that will contain all the concatenated video data\n",
    "out = cv.VideoWriter(os.path.join(path_videos,fname), \n",
    "                     fourcc, \n",
    "                     cap.get(cv.CAP_PROP_FPS),\n",
    "                     (int(cap.get(cv.CAP_PROP_FRAME_WIDTH)), int(cap.get(cv.CAP_PROP_FRAME_HEIGHT))))\n",
    "cap.release()\n",
    "\n",
    "for i,r in df.iterrows():\n",
    "    cap = cv.VideoCapture(os.path.join(r['path'], r['file']))    \n",
    "    j = 0\n",
    "    while True:\n",
    "        ret, frame = cap.read()\n",
    "        if not ret:\n",
    "            break\n",
    "        if j >= r['start_frame']:\n",
    "            out.write(frame)\n",
    "        j += 1\n",
    "        if j > r['end_frame']:\n",
    "            break\n",
    "cap.release()\n",
    "out.release()"
   ]
  },
  {
   "cell_type": "markdown",
   "id": "b423e504-0ba1-4d6e-9c78-452b20446386",
   "metadata": {},
   "source": [
    "# Testing frame number"
   ]
  },
  {
   "cell_type": "code",
   "execution_count": 6,
   "id": "b84c8353-893a-46a5-bf77-ca9efbc4a58b",
   "metadata": {},
   "outputs": [],
   "source": []
  },
  {
   "cell_type": "code",
   "execution_count": 7,
   "id": "68df2ba5-becc-4654-942d-a80e4fa7ebfa",
   "metadata": {},
   "outputs": [],
   "source": [
    "# (np.sum(list_frames) - list_frames[-4] - list_frames[-3])/20/60"
   ]
  }
 ],
 "metadata": {
  "kernelspec": {
   "display_name": "Python 3 (ipykernel)",
   "language": "python",
   "name": "python3"
  },
  "language_info": {
   "codemirror_mode": {
    "name": "ipython",
    "version": 3
   },
   "file_extension": ".py",
   "mimetype": "text/x-python",
   "name": "python",
   "nbconvert_exporter": "python",
   "pygments_lexer": "ipython3",
   "version": "3.9.7"
  }
 },
 "nbformat": 4,
 "nbformat_minor": 5
}
