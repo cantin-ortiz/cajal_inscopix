{
 "cells": [
  {
   "cell_type": "markdown",
   "id": "4d0f4629-3f30-4405-a81f-9c0c121608d5",
   "metadata": {},
   "source": [
    "# Importing libraries"
   ]
  },
  {
   "cell_type": "code",
   "execution_count": 1,
   "id": "f3ef2a0c-aa02-4087-bd1b-777509b89fa8",
   "metadata": {},
   "outputs": [],
   "source": [
    "import os\n",
    "import sys\n",
    "import numpy as np\n",
    "import pandas as pd\n",
    "import matplotlib.pyplot as plt\n",
    "import h5py\n",
    "from scipy.sparse import csr_matrix\n",
    "import pickle\n",
    "from shapely.geometry import Point\n",
    "from shapely.geometry import LineString\n",
    "import seaborn as sns"
   ]
  },
  {
   "cell_type": "markdown",
   "id": "872383d7-97a3-4c8b-a619-eaaa58061a97",
   "metadata": {},
   "source": [
    "# Defining paths"
   ]
  },
  {
   "cell_type": "code",
   "execution_count": 2,
   "id": "991cf11d-80d7-447e-bbb2-f3a3a6a1281b",
   "metadata": {},
   "outputs": [],
   "source": [
    "# cur_dir = 'C:/Users/cortiz/Projects/inscopix_project_cajal/data/20211204/mouse_02_IL'\n",
    "cur_dir = 'C:/Users/cortiz/Projects/inscopix_project_cajal/data/20211204/mouse_01_CA1'\n",
    "# cur_dir = 'C:/Users/cortiz/Projects/inscopix_project_cajal/data/20211206/mouse_02_IL'\n",
    "path_table = os.path.join(cur_dir, 'behavior', 'table_cut.csv')\n",
    "path_mat_spikes = os.path.join(cur_dir, 'spikes', 'finalSpikesMat.mat')"
   ]
  },
  {
   "cell_type": "markdown",
   "id": "b59cda59-4341-4ba6-aae3-db731437aa1e",
   "metadata": {},
   "source": [
    "# Parameters"
   ]
  },
  {
   "cell_type": "code",
   "execution_count": 3,
   "id": "26fa0dd5-0ebd-4248-9362-5fa6498b87eb",
   "metadata": {},
   "outputs": [],
   "source": [
    "n_bins = 20\n",
    "color_palette = np.array(sns.color_palette('Spectral_r', n_bins))"
   ]
  },
  {
   "cell_type": "markdown",
   "id": "d18ba786-b2f2-4d0a-ad0e-49efc0675448",
   "metadata": {},
   "source": [
    "# Functions"
   ]
  },
  {
   "cell_type": "code",
   "execution_count": 4,
   "id": "f18a61c7-d7c9-40d8-b436-55d81c8bb5cb",
   "metadata": {},
   "outputs": [],
   "source": [
    "def loadAll(cur_dir):\n",
    "    \n",
    "    path_pickle = os.path.join(cur_dir, 'pickle')\n",
    "    global meta_spikes, df_dlc, mat_spikes, df_frames, dict_meta, reference_points\n",
    "    with open(os.path.join(path_pickle, 'meta_spikes.pck'), 'rb') as f:\n",
    "        meta_spikes = pickle.load(f)\n",
    "    with open(os.path.join(path_pickle, 'df_dlc_projections.pck'), 'rb') as f:\n",
    "        df_dlc = pickle.load(f)\n",
    "    with open(os.path.join(path_pickle, 'mat_spikes.pck'), 'rb') as f:\n",
    "        mat_spikes = pickle.load(f)\n",
    "    with open(os.path.join(path_pickle, 'df_frames.pck'), 'rb') as f:\n",
    "        df_frames = pickle.load(f)\n",
    "    with open(os.path.join(path_pickle, 'dict_meta.pck'), 'rb') as f:\n",
    "        dict_meta = pickle.load(f)\n",
    "    with open(os.path.join(path_pickle, 'reference_points.pck'), 'rb') as f:\n",
    "        reference_points = pickle.load(f)\n",
    "        \n",
    "    df_dlc_axis = df_dlc[['closest_arm', 'projection', 'environment']]\n",
    "    meta_spikes = meta_spikes.join(df_dlc_axis, on = 'behavioral_frame')\n",
    "    \n",
    "    \n",
    "def plotArm(dict_arm):    \n",
    "\n",
    "    c = reference_points[dict_arm['mode']]\n",
    "    max_val = np.max([np.max(d) if k != 'mode' else 0 for (k,d) in dict_arm.items()])\n",
    "    bins_colorpalette = np.linspace(0, max_val+0.00000001, num = n_bins + 1)\n",
    "\n",
    "    for arm in ['middle', 'left', 'right']:\n",
    "\n",
    "        if arm == 'middle':\n",
    "            xe = c['x_m']\n",
    "            ye = c['y_m']\n",
    "        elif arm == 'left':\n",
    "            xe = c['x_l']\n",
    "            ye = c['y_l']\n",
    "        elif arm == 'right':\n",
    "            xe = c['x_r']\n",
    "            ye = c['y_r']\n",
    "\n",
    "        x_vect = np.linspace(c['x_c'], xe, num=n_bins)\n",
    "        y_vect = np.linspace(c['y_c'], ye, num=n_bins)\n",
    "\n",
    "        color_code = np.digitize(dict_arm[arm], bins_colorpalette)\n",
    "\n",
    "        plt.scatter(x_vect, y_vect, c = color_palette[color_code-1], s = 50)\n",
    "        plt.gca().set_aspect('equal')\n",
    "\n",
    "    plt.axis('off')"
   ]
  },
  {
   "cell_type": "markdown",
   "id": "2bc5f54c-3188-4f71-beca-a7de6317de49",
   "metadata": {},
   "source": [
    "# Loading data"
   ]
  },
  {
   "cell_type": "code",
   "execution_count": 5,
   "id": "d3f2353a-25d2-4df1-814b-d1be8fbbafcf",
   "metadata": {},
   "outputs": [],
   "source": [
    "loadAll(path_pickle)"
   ]
  },
  {
   "cell_type": "markdown",
   "id": "fb366366-9661-43f2-9499-3b4ca139af02",
   "metadata": {},
   "source": [
    "# Heatmaps analysis"
   ]
  },
  {
   "cell_type": "code",
   "execution_count": 6,
   "id": "08f3e60c-3efb-4b4a-8242-3791a597cf14",
   "metadata": {},
   "outputs": [],
   "source": [
    "hist_edges = np.linspace(0, 1.0001, num = n_bins + 1)"
   ]
  },
  {
   "cell_type": "markdown",
   "id": "9052bd83-0225-4eb7-82f9-bc66d04733f7",
   "metadata": {},
   "source": [
    "### t_maze"
   ]
  },
  {
   "cell_type": "code",
   "execution_count": 7,
   "id": "a4540734-3ef3-4dd8-9e69-9a7c7f0ff464",
   "metadata": {},
   "outputs": [],
   "source": [
    "list_dict_arms = list()\n",
    "\n",
    "for env in ['t_maze', 'y_maze']:\n",
    "\n",
    "    sub_spikes = meta_spikes.query('environment == @env')\n",
    "    dict_arm = {'mode': env}\n",
    "    for arm in ['middle', 'left', 'right']:\n",
    "        sub_arm = sub_spikes.query('closest_arm == @arm')\n",
    "        sample_counts, _ = np.histogram(sub_arm['projection'], hist_edges)\n",
    "        dict_arm[arm] = sample_counts\n",
    "    list_dict_arms.append(dict_arm)"
   ]
  },
  {
   "cell_type": "code",
   "execution_count": 8,
   "id": "2dee2049-7f75-494c-b168-0d1025b03900",
   "metadata": {},
   "outputs": [
    {
     "data": {
      "image/png": "[encoded data removed]",
      "text/plain": [
       "<Figure size 720x360 with 2 Axes>"
      ]
     },
     "metadata": {
      "needs_background": "light"
     },
     "output_type": "display_data"
    }
   ],
   "source": [
    "plt.figure(figsize = (10,5))\n",
    "\n",
    "for i,dict_arm in enumerate(list_dict_arms):\n",
    "    cur_ax = plt.subplot(1, len(list_dict_arms), i+1)\n",
    "    plotArm(dict_arm)"
   ]
  },
  {
   "cell_type": "code",
   "execution_count": null,
   "id": "7b849efd-840a-4b45-94ce-52d64c895db5",
   "metadata": {},
   "outputs": [],
   "source": []
  }
 ],
 "metadata": {
  "kernelspec": {
   "display_name": "Python 3 (ipykernel)",
   "language": "python",
   "name": "python3"
  },
  "language_info": {
   "codemirror_mode": {
    "name": "ipython",
    "version": 3
   },
   "file_extension": ".py",
   "mimetype": "text/x-python",
   "name": "python",
   "nbconvert_exporter": "python",
   "pygments_lexer": "ipython3",
   "version": "3.9.7"
  }
 },
 "nbformat": 4,
 "nbformat_minor": 5
}
