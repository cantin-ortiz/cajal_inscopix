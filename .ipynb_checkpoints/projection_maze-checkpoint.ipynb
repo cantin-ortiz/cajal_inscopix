{
 "cells": [
  {
   "cell_type": "markdown",
   "id": "4d0f4629-3f30-4405-a81f-9c0c121608d5",
   "metadata": {},
   "source": [
    "# Importing libraries"
   ]
  },
  {
   "cell_type": "code",
   "execution_count": 1,
   "id": "f3ef2a0c-aa02-4087-bd1b-777509b89fa8",
   "metadata": {},
   "outputs": [],
   "source": [
    "import os\n",
    "import sys\n",
    "import numpy as np\n",
    "import pandas as pd\n",
    "import matplotlib.pyplot as plt\n",
    "import h5py\n",
    "from scipy.sparse import csr_matrix\n",
    "import pickle\n",
    "from shapely.geometry import Point\n",
    "from shapely.geometry import LineString\n",
    "import seaborn as sns"
   ]
  },
  {
   "cell_type": "markdown",
   "id": "872383d7-97a3-4c8b-a619-eaaa58061a97",
   "metadata": {},
   "source": [
    "# Defining paths"
   ]
  },
  {
   "cell_type": "code",
   "execution_count": 2,
   "id": "991cf11d-80d7-447e-bbb2-f3a3a6a1281b",
   "metadata": {},
   "outputs": [],
   "source": [
    "# cur_dir = 'C:/Users/cortiz/Projects/inscopix_project_cajal/data/20211204/mouse_02_IL'\n",
    "# cur_dir = 'C:/Users/cortiz/Projects/inscopix_project_cajal/data/20211204/mouse_01_CA1'\n",
    "# cur_dir = 'C:/Users/cortiz/Projects/inscopix_project_cajal/data/20211206/mouse_02_IL'\n",
    "cur_dir = 'C:/Users/cortiz/Projects/inscopix_project_cajal/data/20211206/mouse_01_CA1'\n",
    "\n",
    "path_table = os.path.join(cur_dir, 'behavior', 'table_cut.csv')\n",
    "path_mat_spikes = os.path.join(cur_dir, 'spikes', 'finalSpikesMat.mat')"
   ]
  },
  {
   "cell_type": "markdown",
   "id": "b59cda59-4341-4ba6-aae3-db731437aa1e",
   "metadata": {},
   "source": [
    "# Parameters"
   ]
  },
  {
   "cell_type": "code",
   "execution_count": 3,
   "id": "26fa0dd5-0ebd-4248-9362-5fa6498b87eb",
   "metadata": {},
   "outputs": [],
   "source": [
    "n_palette = 20"
   ]
  },
  {
   "cell_type": "markdown",
   "id": "d18ba786-b2f2-4d0a-ad0e-49efc0675448",
   "metadata": {},
   "source": [
    "# Loading files"
   ]
  },
  {
   "cell_type": "code",
   "execution_count": 4,
   "id": "f18a61c7-d7c9-40d8-b436-55d81c8bb5cb",
   "metadata": {},
   "outputs": [],
   "source": [
    "path_pickle = os.path.join(cur_dir, 'pickle')\n",
    "with open(os.path.join(path_pickle, 'meta_spikes.pck'), 'rb') as f:\n",
    "    meta_spikes = pickle.load(f)\n",
    "with open(os.path.join(path_pickle, 'df_dlc.pck'), 'rb') as f:\n",
    "    df_dlc = pickle.load(f)\n",
    "with open(os.path.join(path_pickle, 'mat_spikes.pck'), 'rb') as f:\n",
    "    mat_spikes = pickle.load(f)\n",
    "with open(os.path.join(path_pickle, 'df_frames.pck'), 'rb') as f:\n",
    "    df_frames = pickle.load(f)\n",
    "with open(os.path.join(path_pickle, 'dict_meta.pck'), 'rb') as f:\n",
    "    dict_meta = pickle.load(f)"
   ]
  },
  {
   "cell_type": "markdown",
   "id": "2bc5f54c-3188-4f71-beca-a7de6317de49",
   "metadata": {},
   "source": [
    "# Adding session type data"
   ]
  },
  {
   "cell_type": "code",
   "execution_count": 5,
   "id": "d3f2353a-25d2-4df1-814b-d1be8fbbafcf",
   "metadata": {},
   "outputs": [],
   "source": [
    "df_dlc['environment'] = ''\n",
    "for k,d in dict_meta['dict_env'].items():\n",
    "    val_sessions = [df_frames.loc[idx, 'session'] for idx in d]    \n",
    "    sub_df = df_dlc.query('session in @val_sessions')\n",
    "    df_dlc.loc[sub_df.index, 'environment'] = k"
   ]
  },
  {
   "cell_type": "markdown",
   "id": "abb9d089-acdc-462a-b462-aabb9271e067",
   "metadata": {},
   "source": [
    "# Finding maze limits"
   ]
  },
  {
   "cell_type": "markdown",
   "id": "f492c84e-410e-4842-98b8-8f0b87c02bed",
   "metadata": {},
   "source": [
    "## Function"
   ]
  },
  {
   "cell_type": "code",
   "execution_count": 6,
   "id": "adf3ce10-c9df-4a13-8da0-cc88f6a5c1d7",
   "metadata": {},
   "outputs": [],
   "source": [
    "def plotTrajectoryEnv(k, color_frames = False):\n",
    "\n",
    "    selected_sessions = dict_meta['dict_env'][k]\n",
    "    \n",
    "    lname = list()\n",
    "    for idx in selected_sessions:\n",
    "        lname.append(df_frames.loc[idx, 'session'])\n",
    "\n",
    "    for i,r in df_frames.iterrows():\n",
    "        if r['session'] not in lname:\n",
    "            continue\n",
    "\n",
    "        cur_session = r['session']\n",
    "        sub_spikes = meta_spikes.query('session == @cur_session')\n",
    "\n",
    "        if not color_frames:\n",
    "            plt.plot(sub_spikes['x'], sub_spikes['y'], c = 'darkgray', alpha = 1, linewidth = 2, zorder = -1)   \n",
    "        else:\n",
    "            df_dlc_axis = df_dlc[['closest_arm', 'projection', 'environment']]\n",
    "            sub_spikes = sub_spikes.join(df_dlc_axis, on = 'behavioral_frame')\n",
    "            pal_name = {'middle': 'Greens',\n",
    "                        'left': 'Reds',\n",
    "                        'right': 'Blues'}\n",
    "            \n",
    "            for i,arm in enumerate(['middle', 'left', 'right']):\n",
    "                cur_pal = np.array(sns.color_palette(pal_name[arm], n_palette, as_cmap=False))\n",
    "                sub_spikes_region = sub_spikes.query('(closest_arm == @arm) & (environment == @k)')\n",
    "                # plt.scatter(sub_spikes_region['x'], sub_spikes_region['y'], c = col_vect[i])\n",
    "                bin_code = np.digitize(sub_spikes_region['projection'], np.linspace(0,1.001,num=n_palette+1)) \n",
    "                plt.scatter(sub_spikes_region['x'], sub_spikes_region['y'], c = cur_pal[bin_code-1])\n",
    "            \n",
    "    c = coords[k]\n",
    "    plt.plot([c['x_c'], c['x_m']], [c['y_c'], c['y_m']], c = 'g', marker = 'o')\n",
    "    plt.plot([c['x_c'], c['x_l']], [c['y_c'], c['y_l']], c = 'r', marker = 'o')\n",
    "    plt.plot([c['x_c'], c['x_r']], [c['y_c'], c['y_r']], c = 'b', marker = 'o')\n",
    "    plt.gca().set_aspect('equal')"
   ]
  },
  {
   "cell_type": "markdown",
   "id": "fb366366-9661-43f2-9499-3b4ca139af02",
   "metadata": {},
   "source": [
    "## Coordinates dots"
   ]
  },
  {
   "cell_type": "markdown",
   "id": "9052bd83-0225-4eb7-82f9-bc66d04733f7",
   "metadata": {},
   "source": [
    "### t_maze"
   ]
  },
  {
   "cell_type": "code",
   "execution_count": 7,
   "id": "a4540734-3ef3-4dd8-9e69-9a7c7f0ff464",
   "metadata": {},
   "outputs": [
    {
     "ename": "FileNotFoundError",
     "evalue": "[Errno 2] No such file or directory: 'C:/Users/cortiz/Projects/inscopix_project_cajal/data/20211206/mouse_01_CA1\\\\pickle\\\\../pickle_backup/dict_meta.pck'",
     "output_type": "error",
     "traceback": [
      "\u001b[1;31m---------------------------------------------------------------------------\u001b[0m",
      "\u001b[1;31mFileNotFoundError\u001b[0m                         Traceback (most recent call last)",
      "\u001b[1;32m~\\AppData\\Local\\Temp/ipykernel_11012/3949439359.py\u001b[0m in \u001b[0;36m<module>\u001b[1;34m\u001b[0m\n\u001b[1;32m----> 1\u001b[1;33m \u001b[1;32mwith\u001b[0m \u001b[0mopen\u001b[0m\u001b[1;33m(\u001b[0m\u001b[0mos\u001b[0m\u001b[1;33m.\u001b[0m\u001b[0mpath\u001b[0m\u001b[1;33m.\u001b[0m\u001b[0mjoin\u001b[0m\u001b[1;33m(\u001b[0m\u001b[0mpath_pickle\u001b[0m\u001b[1;33m,\u001b[0m \u001b[1;34m'../pickle_backup/dict_meta.pck'\u001b[0m\u001b[1;33m)\u001b[0m\u001b[1;33m,\u001b[0m \u001b[1;34m'rb'\u001b[0m\u001b[1;33m)\u001b[0m \u001b[1;32mas\u001b[0m \u001b[0mf\u001b[0m\u001b[1;33m:\u001b[0m\u001b[1;33m\u001b[0m\u001b[1;33m\u001b[0m\u001b[0m\n\u001b[0m\u001b[0;32m      2\u001b[0m     \u001b[0mdict_meta\u001b[0m \u001b[1;33m=\u001b[0m \u001b[0mpickle\u001b[0m\u001b[1;33m.\u001b[0m\u001b[0mload\u001b[0m\u001b[1;33m(\u001b[0m\u001b[0mf\u001b[0m\u001b[1;33m)\u001b[0m\u001b[1;33m\u001b[0m\u001b[1;33m\u001b[0m\u001b[0m\n\u001b[0;32m      3\u001b[0m \u001b[1;32mwith\u001b[0m \u001b[0mopen\u001b[0m\u001b[1;33m(\u001b[0m\u001b[0mos\u001b[0m\u001b[1;33m.\u001b[0m\u001b[0mpath\u001b[0m\u001b[1;33m.\u001b[0m\u001b[0mjoin\u001b[0m\u001b[1;33m(\u001b[0m\u001b[0mpath_pickle\u001b[0m\u001b[1;33m,\u001b[0m \u001b[1;34m'../pickle_backup/reference_points.pck'\u001b[0m\u001b[1;33m)\u001b[0m\u001b[1;33m,\u001b[0m \u001b[1;34m'rb'\u001b[0m\u001b[1;33m)\u001b[0m \u001b[1;32mas\u001b[0m \u001b[0mf\u001b[0m\u001b[1;33m:\u001b[0m\u001b[1;33m\u001b[0m\u001b[1;33m\u001b[0m\u001b[0m\n\u001b[0;32m      4\u001b[0m     \u001b[0mcoords\u001b[0m \u001b[1;33m=\u001b[0m \u001b[0mpickle\u001b[0m\u001b[1;33m.\u001b[0m\u001b[0mload\u001b[0m\u001b[1;33m(\u001b[0m\u001b[0mf\u001b[0m\u001b[1;33m)\u001b[0m\u001b[1;33m\u001b[0m\u001b[1;33m\u001b[0m\u001b[0m\n",
      "\u001b[1;31mFileNotFoundError\u001b[0m: [Errno 2] No such file or directory: 'C:/Users/cortiz/Projects/inscopix_project_cajal/data/20211206/mouse_01_CA1\\\\pickle\\\\../pickle_backup/dict_meta.pck'"
     ]
    }
   ],
   "source": [
    "# with open(os.path.join(path_pickle, '../pickle_backup/dict_meta.pck'), 'rb') as f:\n",
    "#     dict_meta = pickle.load(f)\n",
    "# with open(os.path.join(path_pickle, '../pickle_backup/reference_points.pck'), 'rb') as f:\n",
    "#     coords = pickle.load(f)"
   ]
  },
  {
   "cell_type": "code",
   "execution_count": 8,
   "id": "ea876fe9-25ef-4369-8747-2ba5e02feebe",
   "metadata": {},
   "outputs": [],
   "source": [
    "with open(os.path.join(path_pickle, 'meta_spikes.pck'), 'rb') as f:\n",
    "    meta_spikes = pickle.load(f)\n",
    "    \n",
    "# dict_meta['offset'] = {\n",
    "#     'WIN_20211206_18_22_29_Pro': {\n",
    "#         'x': -10,\n",
    "#         'y': +5\n",
    "#     }\n",
    "# }\n",
    "#     'WIN_20211204_15_28_13_Pro': {\n",
    "#         'x': -10,\n",
    "#         'y': +0\n",
    "#     }\n",
    "# }\n",
    "\n",
    "if 'offset' in dict_meta.keys():\n",
    "    for k,d in dict_meta['offset'].items():\n",
    "        sub_meta = meta_spikes.query('session == @k')\n",
    "        print(sub_meta.index)\n",
    "        meta_spikes.loc[sub_meta.index, 'x'] += d['x']\n",
    "        meta_spikes.loc[sub_meta.index, 'y'] += d['y']\n"
   ]
  },
  {
   "cell_type": "code",
   "execution_count": 46,
   "id": "eb039049-ac9f-4d5a-bed5-8ab6f417e936",
   "metadata": {},
   "outputs": [],
   "source": [
    "coords = dict()\n",
    "coords['y_maze'] = {\n",
    "    'x_c': 468,\n",
    "    'y_c': 202,\n",
    "    'x_m': 480,\n",
    "    'y_m': 330,\n",
    "    'x_l': 350,\n",
    "    'y_l': 153,\n",
    "    'x_r': 580,\n",
    "    'y_r': 123   \n",
    "}\n",
    "coords['t_maze'] = {\n",
    "    'x_c': 478,\n",
    "    'y_c': 199,\n",
    "    'x_m': 354,\n",
    "    'y_m': 150,\n",
    "    'x_l': 436,\n",
    "    'y_l': 300,\n",
    "    'x_r': 525,\n",
    "    'y_r': 96\n",
    "}\n",
    "    \n",
    "plt.figure(figsize = (10,5))\n",
    "plt.subplot(121)\n",
    "plotTrajectoryEnv('t_maze', False)\n",
    "plt.subplot(122)\n",
    "plotTrajectoryEnv('y_maze', False)"
   ]
  },
  {
   "cell_type": "markdown",
   "id": "f6a84f8c-1847-43c0-bfaf-77e75e77037b",
   "metadata": {},
   "source": [
    "### y_maze"
   ]
  },
  {
   "cell_type": "markdown",
   "id": "d88560d0-5f2d-4e66-a211-6d26f6f759df",
   "metadata": {},
   "source": [
    "## Computing distance to line"
   ]
  },
  {
   "cell_type": "code",
   "execution_count": 47,
   "id": "faabbf20-469c-4352-9287-5c1119e62363",
   "metadata": {},
   "outputs": [],
   "source": [
    "df_dlc['closest_arm'] = ''\n",
    "for env in ['t_maze', 'y_maze']:\n",
    "    c = coords[env]\n",
    "    sub_df = df_dlc.query('environment == @env')\n",
    "    dist_m = [LineString([(c['x_c'], c['y_c']), (c['x_m'], c['y_m'])]).distance(Point(r['xc'], r['yc'])) for _,r in sub_df.iterrows()]\n",
    "    dist_l = [LineString([(c['x_c'], c['y_c']), (c['x_l'], c['y_l'])]).distance(Point(r['xc'], r['yc'])) for _,r in sub_df.iterrows()]\n",
    "    dist_r = [LineString([(c['x_c'], c['y_c']), (c['x_r'], c['y_r'])]).distance(Point(r['xc'], r['yc'])) for _,r in sub_df.iterrows()]\n",
    "    mat_distances = np.array([dist_m, dist_l, dist_r])\n",
    "    df_dlc.loc[sub_df.index, 'closest_arm'] = np.array(['middle', 'left', 'right'])[np.argmin(mat_distances, axis = 0)]"
   ]
  },
  {
   "cell_type": "markdown",
   "id": "c77eb539-1b1e-46ea-ac89-470c39ca6be1",
   "metadata": {},
   "source": [
    "## Projection to the closest line"
   ]
  },
  {
   "cell_type": "code",
   "execution_count": 48,
   "id": "6f121f38-508d-4ca7-8f3b-c2cfc61d8c64",
   "metadata": {},
   "outputs": [],
   "source": [
    "df_dlc['projection'] = 0\n",
    "\n",
    "for env in ['t_maze', 'y_maze']:\n",
    "    c = coords[env]\n",
    "    for arm in ['middle', 'left', 'right']:\n",
    "        if arm == 'middle':\n",
    "            x = c['x_m']\n",
    "            y = c['y_m']\n",
    "        elif arm == 'left':\n",
    "            x = c['x_l']\n",
    "            y = c['y_l']\n",
    "        elif arm == 'right':\n",
    "            x = c['x_r']\n",
    "            y = c['y_r']\n",
    "        sub_df = df_dlc.query('(closest_arm == @arm) & (environment == @env)')\n",
    "        proj = [LineString([(c['x_c'], c['y_c']), (x, y)]).project(Point(r['xc'], r['yc']), normalized=True) for _,r in sub_df.iterrows()]\n",
    "        df_dlc.loc[sub_df.index, 'projection'] = proj"
   ]
  },
  {
   "cell_type": "code",
   "execution_count": null,
   "id": "3ad03856-1140-4a77-b33f-86c23c682c68",
   "metadata": {},
   "outputs": [],
   "source": [
    "plt.figure(figsize = (10,5))\n",
    "plt.subplot(121)\n",
    "plotTrajectoryEnv('t_maze', True)\n",
    "plt.subplot(122)\n",
    "plotTrajectoryEnv('y_maze', True)"
   ]
  },
  {
   "cell_type": "markdown",
   "id": "9e921193-0eca-4b27-9c92-4ad5087b7fda",
   "metadata": {},
   "source": [
    "# Saving data "
   ]
  },
  {
   "cell_type": "code",
   "execution_count": null,
   "id": "680fce2f-794d-4d86-abe9-7a5142beef74",
   "metadata": {},
   "outputs": [],
   "source": [
    "with open(os.path.join(cur_dir, 'pickle', 'df_dlc_projections.pck'), 'wb') as f:\n",
    "    pickle.dump(df_dlc, f)\n",
    "if os.path.exists(os.path.join(cur_dir, 'pickle', 'reference_points.pck')):\n",
    "    sys.exit('There is already a reference point file, are you sure you want to delete?')\n",
    "with open(os.path.join(cur_dir, 'pickle', 'reference_points.pck'), 'wb') as f:\n",
    "    pickle.dump(coords, f)\n",
    "with open(os.path.join(cur_dir, 'pickle', 'dict_meta.pck'), 'wb') as f:\n",
    "    pickle.dump(dict_meta, f)"
   ]
  },
  {
   "cell_type": "code",
   "execution_count": null,
   "id": "e360f6f2-492c-43ca-817e-0b2553b5776e",
   "metadata": {},
   "outputs": [],
   "source": []
  }
 ],
 "metadata": {
  "kernelspec": {
   "display_name": "Python 3 (ipykernel)",
   "language": "python",
   "name": "python3"
  },
  "language_info": {
   "codemirror_mode": {
    "name": "ipython",
    "version": 3
   },
   "file_extension": ".py",
   "mimetype": "text/x-python",
   "name": "python",
   "nbconvert_exporter": "python",
   "pygments_lexer": "ipython3",
   "version": "3.9.7"
  }
 },
 "nbformat": 4,
 "nbformat_minor": 5
}
