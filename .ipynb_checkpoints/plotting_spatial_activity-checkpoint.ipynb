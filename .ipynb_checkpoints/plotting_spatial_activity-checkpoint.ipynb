{
 "cells": [
  {
   "cell_type": "markdown",
   "id": "4d0f4629-3f30-4405-a81f-9c0c121608d5",
   "metadata": {},
   "source": [
    "# Importing libraries"
   ]
  },
  {
   "cell_type": "code",
   "execution_count": 1,
   "id": "f3ef2a0c-aa02-4087-bd1b-777509b89fa8",
   "metadata": {},
   "outputs": [],
   "source": [
    "import os\n",
    "import sys\n",
    "import numpy as np\n",
    "import pandas as pd\n",
    "import matplotlib.pyplot as plt\n",
    "import h5py\n",
    "from scipy.sparse import csr_matrix\n",
    "import pickle\n",
    "# import cv2 as cv\n",
    "# import time"
   ]
  },
  {
   "cell_type": "markdown",
   "id": "872383d7-97a3-4c8b-a619-eaaa58061a97",
   "metadata": {},
   "source": [
    "# Defining paths"
   ]
  },
  {
   "cell_type": "code",
   "execution_count": 2,
   "id": "991cf11d-80d7-447e-bbb2-f3a3a6a1281b",
   "metadata": {},
   "outputs": [],
   "source": [
    "cur_dir = 'C:/Users/cortiz/Projects/inscopix_project_cajal/data/20211204/mouse_02_IL'\n",
    "path_table = os.path.join(cur_dir, 'behavior', 'table_cut.csv')\n",
    "path_mat_spikes = os.path.join(cur_dir, 'spikes', 'finalSpikesMat.mat')"
   ]
  },
  {
   "cell_type": "markdown",
   "id": "b59cda59-4341-4ba6-aae3-db731437aa1e",
   "metadata": {},
   "source": [
    "# Parameters"
   ]
  },
  {
   "cell_type": "code",
   "execution_count": 3,
   "id": "26fa0dd5-0ebd-4248-9362-5fa6498b87eb",
   "metadata": {},
   "outputs": [],
   "source": [
    "framerate_inscopix = 20\n",
    "framerate_behavior = 15\n",
    "frame_count = np.array([4015, 3709, 3872, 3715, 3737, 3752, 4344, 3698, 4628, 3801, 3770, 3774])\n",
    "discard_sessions = np.array([8,9])\n",
    "dict_env = {'t_maze': [0, 3, 6],\n",
    "            'y_maze': [1, 4, 7, 8],\n",
    "            'open_field': [2, 5, 9]}"
   ]
  },
  {
   "cell_type": "markdown",
   "id": "d18ba786-b2f2-4d0a-ad0e-49efc0675448",
   "metadata": {},
   "source": [
    "# Loading files"
   ]
  },
  {
   "cell_type": "code",
   "execution_count": 5,
   "id": "f18a61c7-d7c9-40d8-b436-55d81c8bb5cb",
   "metadata": {},
   "outputs": [],
   "source": [
    "path_pickle = os.path.join(cur_dir, 'pickle')\n",
    "with open(os.path.join(path_pickle, 'meta_spikes.pck'), 'rb') as f:\n",
    "    meta_spikes = pickle.load(f)\n",
    "with open(os.path.join(path_pickle, 'df_dlc.pck'), 'rb') as f:\n",
    "    df_dlc = pickle.load(f)\n",
    "with open(os.path.join(path_pickle, 'mat_spikes.pck'), 'rb') as f:\n",
    "    mat_spikes = pickle.load(f)\n",
    "with open(os.path.join(path_pickle, 'df_frames.pck'), 'rb') as f:\n",
    "    df_frames = pickle.load(f)"
   ]
  },
  {
   "cell_type": "markdown",
   "id": "1103ad26-baa4-4f95-a6b8-0dffe63fc0c4",
   "metadata": {},
   "source": [
    "### Checking offset between recordings"
   ]
  },
  {
   "cell_type": "markdown",
   "id": "29b0f8c2-ea19-4148-a239-c9e20d1d2b43",
   "metadata": {},
   "source": [
    "# Plotting spatial activity"
   ]
  },
  {
   "cell_type": "code",
   "execution_count": 83,
   "id": "741c4009-e736-4cfb-a2fc-6f4d1070522d",
   "metadata": {},
   "outputs": [],
   "source": [
    "path_plot = cur_dir + '/plots/session_colored'\n",
    "os.makedirs(path_plot, exist_ok=True)\n",
    "\n",
    "sorted_cells_decreasing = np.argsort(-np.sum(mat_spikes, axis = 0))\n",
    "\n",
    "ncol = 4\n",
    "nrow = int(np.ceil(len(df_frames)/ncol))\n",
    "\n",
    "for cur_cell in sorted_cells_decreasing[:15]:\n",
    "    plt.figure(figsize = (5*ncol, 5*nrow))\n",
    "    spike_train = np.where(mat_spikes[:, cur_cell])[0]\n",
    "\n",
    "    for i,r in df_frames.iterrows():\n",
    "        cur_session = r['session']\n",
    "        plt.subplot(nrow, ncol, i+1)\n",
    "        sub_spikes = meta_spikes.query('session == @cur_session')\n",
    "        cur_spikes = spike_train[[s in sub_spikes.index for s in spike_train]]\n",
    "        plt.title(cur_session)\n",
    "        plt.plot(sub_spikes['x'], sub_spikes['y'], c = 'lightgray', alpha = 0.5, linewidth = 0.5)\n",
    "        plt.scatter(meta_spikes['x'][cur_spikes], meta_spikes['y'][cur_spikes])\n",
    "        plt.gca().set_aspect('equal')\n",
    "        \n",
    "    plt.savefig(path_plot + '/activity_overview_cell_' + str(cur_cell).zfill(3) + '.png', dpi = 300)\n",
    "    plt.close()"
   ]
  },
  {
   "cell_type": "code",
   "execution_count": 84,
   "id": "f82e4bdb-88df-4d3a-b99c-c6e9598ba00d",
   "metadata": {},
   "outputs": [],
   "source": [
    "path_plot = cur_dir + '/plots/session_colored'\n",
    "sorted_cells_decreasing = np.argsort(-np.sum(mat_spikes, axis = 0))\n",
    "\n",
    "ncol = 3\n",
    "nrow = 1\n",
    "\n",
    "for cur_cell in sorted_cells_decreasing[:15]:\n",
    "    \n",
    "    plt.figure(figsize = (5*ncol, 5*nrow))\n",
    "    spike_train = np.where(mat_spikes[:, cur_cell])[0]\n",
    "    cnt_plt = 0\n",
    "    \n",
    "    for k, selected_sessions in dict_env.items():\n",
    "        \n",
    "        cnt_plt += 1\n",
    "        plt.subplot(nrow, ncol, cnt_plt)\n",
    "        plt.title(cur_session)\n",
    "        plt.gca().set_aspect('equal')\n",
    "        \n",
    "        lname = list()\n",
    "        for idx in selected_sessions:\n",
    "            lname.append(df_frames.loc[idx, 'session'])\n",
    "\n",
    "        for i,r in df_frames.iterrows():\n",
    "            if r['session'] not in lname:\n",
    "                continue\n",
    "            \n",
    "            cur_session = r['session']\n",
    "            sub_spikes = meta_spikes.query('session == @cur_session')\n",
    "            cur_spikes = spike_train[[s in sub_spikes.index for s in spike_train]]\n",
    "            plt.plot(sub_spikes['x'], sub_spikes['y'], c = 'lightgray', alpha = 0.5, linewidth = 0.5)\n",
    "            plt.scatter(meta_spikes['x'][cur_spikes], meta_spikes['y'][cur_spikes])\n",
    "        \n",
    "    plt.savefig(path_plot + '/activity_env_merged_cell_' + str(cur_cell).zfill(3) + '.png', dpi = 300)\n",
    "    plt.close()"
   ]
  },
  {
   "cell_type": "markdown",
   "id": "481e0893-7ac6-4067-9efb-2de2c3119334",
   "metadata": {},
   "source": [
    "# Running plots"
   ]
  },
  {
   "cell_type": "markdown",
   "id": "43ebc231-ad29-439c-9a6b-e9986e80ba32",
   "metadata": {},
   "source": [
    "## Computing running speed"
   ]
  },
  {
   "cell_type": "code",
   "execution_count": 40,
   "id": "66ed3804-eb12-4b81-ab19-1d7289cb459c",
   "metadata": {},
   "outputs": [],
   "source": [
    "df_dlc['speed'] = 0\n",
    "session_list = pd.unique(df_dlc['session'])\n",
    "for sess in session_list:\n",
    "    cur_df = df_dlc.query('session == @sess')\n",
    "    for idx in cur_df.index[1:-1]:\n",
    "        xdiff = df_dlc.loc[idx+1, 'xc'] - df_dlc.loc[idx-1, 'xc']\n",
    "        ydiff = df_dlc.loc[idx+1, 'yc'] - df_dlc.loc[idx-1, 'yc']\n",
    "        dist = np.sqrt(np.power(xdiff,2) + np.power(ydiff,2))\n",
    "        time = (1/framerate_behavior)\n",
    "        df_dlc.loc[idx, 'speed'] = dist/time"
   ]
  },
  {
   "cell_type": "markdown",
   "id": "181fb6cb-356e-430a-8dc6-d57f8034c572",
   "metadata": {},
   "source": [
    "## Deciding of a threshold"
   ]
  },
  {
   "cell_type": "code",
   "execution_count": 59,
   "id": "192e5630-6bba-4ab0-8ea2-bc311a1b5425",
   "metadata": {},
   "outputs": [
    {
     "data": {
      "image/png": "[encoded data removed]",
      "text/plain": [
       "<Figure size 432x288 with 1 Axes>"
      ]
     },
     "metadata": {
      "needs_background": "light"
     },
     "output_type": "display_data"
    }
   ],
   "source": [
    "threshold_max_speed = 250\n",
    "threshold_running = 12\n",
    "speed_list = df_dlc['speed']\n",
    "speed_list = speed_list[speed_list < threshold_max_speed]\n",
    "_ = plt.hist(speed_list, 1000)\n",
    "plt.xlim(0, 25)\n",
    "df_dlc['is_running'] = df_dlc['speed'] > threshold_running"
   ]
  },
  {
   "cell_type": "markdown",
   "id": "66f55ddc-7a3d-4484-861b-2034fb5624d2",
   "metadata": {},
   "source": [
    "## Coloring based on running speed"
   ]
  },
  {
   "cell_type": "code",
   "execution_count": 82,
   "id": "ed13a3fa-7a16-4f44-9054-3af454fe2789",
   "metadata": {},
   "outputs": [],
   "source": [
    "path_plot = cur_dir + '/plots/speed_colored'\n",
    "os.makedirs(path_plot, exist_ok=True)\n",
    "\n",
    "sorted_cells_decreasing = np.argsort(-np.sum(mat_spikes, axis = 0))\n",
    "ncol = 3\n",
    "nrow = 1\n",
    "\n",
    "for cur_cell in sorted_cells_decreasing[:15]:\n",
    "    \n",
    "    plt.figure(figsize = (5*ncol, 5*nrow))\n",
    "    spike_train = np.where(mat_spikes[:, cur_cell])[0]\n",
    "    cnt_plt = 0\n",
    "    \n",
    "    for k, selected_sessions in dict_env.items():\n",
    "        \n",
    "        cnt_plt += 1\n",
    "        plt.subplot(nrow, ncol, cnt_plt)\n",
    "        plt.title(cur_session)\n",
    "        plt.gca().set_aspect('equal')\n",
    "        \n",
    "        lname = list()\n",
    "        for idx in selected_sessions:\n",
    "            lname.append(df_frames.loc[idx, 'session'])\n",
    "\n",
    "        for i,r in df_frames.iterrows():\n",
    "            if r['session'] not in lname:\n",
    "                continue\n",
    "            \n",
    "            cur_session = r['session']\n",
    "            sub_spikes = meta_spikes.query('session == @cur_session')\n",
    "            cur_spikes = spike_train[[s in sub_spikes.index for s in spike_train]]\n",
    "            plt.plot(sub_spikes['x'], sub_spikes['y'], c = 'lightgray', alpha = 0.5, linewidth = 0.5)\n",
    "            \n",
    "            for _,r in meta_spikes.loc[cur_spikes].iterrows():\n",
    "                col_plot = 'green' if df_dlc.loc[r['behavioral_frame'], 'is_running'] else 'red'\n",
    "                plt.scatter(r['x'], r['y'], c = col_plot)\n",
    "        \n",
    "    plt.savefig(path_plot + '/activity_env_merged_cell_' + str(cur_cell).zfill(3) + '.png', dpi = 300)\n",
    "    plt.close()"
   ]
  }
 ],
 "metadata": {
  "kernelspec": {
   "display_name": "Python 3 (ipykernel)",
   "language": "python",
   "name": "python3"
  },
  "language_info": {
   "codemirror_mode": {
    "name": "ipython",
    "version": 3
   },
   "file_extension": ".py",
   "mimetype": "text/x-python",
   "name": "python",
   "nbconvert_exporter": "python",
   "pygments_lexer": "ipython3",
   "version": "3.9.7"
  }
 },
 "nbformat": 4,
 "nbformat_minor": 5
}
