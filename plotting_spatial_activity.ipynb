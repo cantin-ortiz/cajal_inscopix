{
 "cells": [
  {
   "cell_type": "markdown",
   "id": "4d0f4629-3f30-4405-a81f-9c0c121608d5",
   "metadata": {},
   "source": [
    "# Importing libraries"
   ]
  },
  {
   "cell_type": "code",
   "execution_count": 1,
   "id": "f3ef2a0c-aa02-4087-bd1b-777509b89fa8",
   "metadata": {},
   "outputs": [],
   "source": [
    "import os\n",
    "import sys\n",
    "import numpy as np\n",
    "import pandas as pd\n",
    "import matplotlib.pyplot as plt\n",
    "import h5py\n",
    "from scipy.sparse import csr_matrix\n",
    "import pickle\n",
    "# import cv2 as cv\n",
    "# import time"
   ]
  },
  {
   "cell_type": "markdown",
   "id": "872383d7-97a3-4c8b-a619-eaaa58061a97",
   "metadata": {},
   "source": [
    "# Defining paths"
   ]
  },
  {
   "cell_type": "code",
   "execution_count": 2,
   "id": "991cf11d-80d7-447e-bbb2-f3a3a6a1281b",
   "metadata": {},
   "outputs": [],
   "source": [
    "cur_dir = 'C:/Users/cortiz/Projects/inscopix_project_cajal/data/20211204/mouse_02_IL'\n",
    "path_table = os.path.join(cur_dir, 'behavior', 'table_cut.csv')\n",
    "path_mat_spikes = os.path.join(cur_dir, 'spikes', 'finalSpikesMat.mat')"
   ]
  },
  {
   "cell_type": "markdown",
   "id": "b59cda59-4341-4ba6-aae3-db731437aa1e",
   "metadata": {},
   "source": [
    "# Parameters"
   ]
  },
  {
   "cell_type": "code",
   "execution_count": 3,
   "id": "26fa0dd5-0ebd-4248-9362-5fa6498b87eb",
   "metadata": {},
   "outputs": [],
   "source": [
    "framerate_inscopix = 20\n",
    "framerate_behavior = 15\n",
    "frame_count = np.array([4015, 3709, 3872, 3715, 3737, 3752, 4344, 3698, 4628, 3801, 3770, 3774])\n",
    "discard_sessions = np.array([8,9])\n",
    "dict_env = {'t_maze': [0, 3, 6],\n",
    "            'y_maze': [1, 4, 7, 8],\n",
    "            'open_field': [2, 5, 9]}"
   ]
  },
  {
   "cell_type": "markdown",
   "id": "d18ba786-b2f2-4d0a-ad0e-49efc0675448",
   "metadata": {},
   "source": [
    "# Loading files"
   ]
  },
  {
   "cell_type": "code",
   "execution_count": 5,
   "id": "f18a61c7-d7c9-40d8-b436-55d81c8bb5cb",
   "metadata": {},
   "outputs": [],
   "source": [
    "path_pickle = os.path.join(cur_dir, 'pickle')\n",
    "with open(os.path.join(path_pickle, 'meta_spikes.pck'), 'rb') as f:\n",
    "    meta_spikes = pickle.load(f)\n",
    "with open(os.path.join(path_pickle, 'df_dlc.pck'), 'rb') as f:\n",
    "    df_dlc = pickle.load(f)\n",
    "with open(os.path.join(path_pickle, 'mat_spikes.pck'), 'rb') as f:\n",
    "    mat_spikes = pickle.load(f)\n",
    "with open(os.path.join(path_pickle, 'df_frames.pck'), 'rb') as f:\n",
    "    df_frames = pickle.load(f)"
   ]
  },
  {
   "cell_type": "markdown",
   "id": "1103ad26-baa4-4f95-a6b8-0dffe63fc0c4",
   "metadata": {},
   "source": [
    "### Checking offset between recordings"
   ]
  },
  {
   "cell_type": "markdown",
   "id": "29b0f8c2-ea19-4148-a239-c9e20d1d2b43",
   "metadata": {},
   "source": [
    "# Plotting spatial activity"
   ]
  },
  {
   "cell_type": "code",
   "execution_count": 6,
   "id": "741c4009-e736-4cfb-a2fc-6f4d1070522d",
   "metadata": {},
   "outputs": [],
   "source": [
    "sorted_cells_decreasing = np.argsort(-np.sum(mat_spikes, axis = 0))\n",
    "\n",
    "ncol = 4\n",
    "nrow = int(np.ceil(len(df_frames)/ncol))\n",
    "\n",
    "for cur_cell in sorted_cells_decreasing[:15]:\n",
    "    plt.figure(figsize = (5*ncol, 5*nrow))\n",
    "    spike_train = np.where(mat_spikes[:, cur_cell])[0]\n",
    "\n",
    "    for i,r in df_frames.iterrows():\n",
    "        cur_session = r['session']\n",
    "        plt.subplot(nrow, ncol, i+1)\n",
    "        sub_spikes = meta_spikes.query('session == @cur_session')\n",
    "        cur_spikes = spike_train[[s in sub_spikes.index for s in spike_train]]\n",
    "        plt.title(cur_session)\n",
    "        plt.plot(sub_spikes['x'], sub_spikes['y'], c = 'lightgray', alpha = 0.5, linewidth = 0.5)\n",
    "        plt.scatter(meta_spikes['x'][cur_spikes], meta_spikes['y'][cur_spikes])\n",
    "        plt.gca().set_aspect('equal')\n",
    "        \n",
    "    plt.savefig(cur_dir + '/plots/activity_overview_cell_' + str(cur_cell).zfill(3) + '.png', dpi = 300)\n",
    "    plt.close()"
   ]
  },
  {
   "cell_type": "code",
   "execution_count": null,
   "id": "f82e4bdb-88df-4d3a-b99c-c6e9598ba00d",
   "metadata": {},
   "outputs": [],
   "source": [
    "sorted_cells_decreasing = np.argsort(-np.sum(mat_spikes, axis = 0))\n",
    "\n",
    "ncol = 3\n",
    "nrow = 1\n",
    "\n",
    "for cur_cell in sorted_cells_decreasing[:15]:\n",
    "    \n",
    "    plt.figure(figsize = (5*ncol, 5*nrow))\n",
    "    spike_train = np.where(mat_spikes[:, cur_cell])[0]\n",
    "    cnt_plt = 0\n",
    "    \n",
    "    for k, selected_sessions in dict_env.items():\n",
    "        \n",
    "        cnt_plt += 1\n",
    "        plt.subplot(nrow, ncol, cnt_plt)\n",
    "        plt.title(cur_session)\n",
    "        plt.gca().set_aspect('equal')\n",
    "        \n",
    "        lname = list()\n",
    "        for idx in selected_sessions:\n",
    "            lname.append(df_frames.loc[idx, 'session'])\n",
    "\n",
    "        for i,r in df_frames.iterrows():\n",
    "            if r['session'] not in lname:\n",
    "                continue\n",
    "            \n",
    "            cur_session = r['session']\n",
    "            sub_spikes = meta_spikes.query('session == @cur_session')\n",
    "            cur_spikes = spike_train[[s in sub_spikes.index for s in spike_train]]\n",
    "            plt.plot(sub_spikes['x'], sub_spikes['y'], c = 'lightgray', alpha = 0.5, linewidth = 0.5)\n",
    "            plt.scatter(meta_spikes['x'][cur_spikes], meta_spikes['y'][cur_spikes])\n",
    "        \n",
    "    plt.savefig(cur_dir + '/plots/activity_env_merged_cell_' + str(cur_cell).zfill(3) + '.png', dpi = 300)\n",
    "    plt.close()"
   ]
  },
  {
   "cell_type": "code",
   "execution_count": null,
   "id": "163ab3e3-3930-449f-ad17-31fdb21d6027",
   "metadata": {},
   "outputs": [],
   "source": []
  }
 ],
 "metadata": {
  "kernelspec": {
   "display_name": "Python 3 (ipykernel)",
   "language": "python",
   "name": "python3"
  },
  "language_info": {
   "codemirror_mode": {
    "name": "ipython",
    "version": 3
   },
   "file_extension": ".py",
   "mimetype": "text/x-python",
   "name": "python",
   "nbconvert_exporter": "python",
   "pygments_lexer": "ipython3",
   "version": "3.9.7"
  }
 },
 "nbformat": 4,
 "nbformat_minor": 5
}
