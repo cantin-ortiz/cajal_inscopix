{
 "cells": [
  {
   "cell_type": "markdown",
   "id": "4d0f4629-3f30-4405-a81f-9c0c121608d5",
   "metadata": {},
   "source": [
    "# Importing libraries"
   ]
  },
  {
   "cell_type": "code",
   "execution_count": 1,
   "id": "f3ef2a0c-aa02-4087-bd1b-777509b89fa8",
   "metadata": {},
   "outputs": [],
   "source": [
    "import os\n",
    "import sys\n",
    "import numpy as np\n",
    "import pandas as pd\n",
    "import matplotlib.pyplot as plt\n",
    "import h5py\n",
    "from scipy.sparse import csr_matrix\n",
    "import pickle\n",
    "from shapely.geometry import Point\n",
    "from shapely.geometry import LineString\n",
    "import seaborn as sns"
   ]
  },
  {
   "cell_type": "markdown",
   "id": "872383d7-97a3-4c8b-a619-eaaa58061a97",
   "metadata": {},
   "source": [
    "# Defining paths"
   ]
  },
  {
   "cell_type": "code",
   "execution_count": 2,
   "id": "991cf11d-80d7-447e-bbb2-f3a3a6a1281b",
   "metadata": {},
   "outputs": [],
   "source": [
    "# cur_dir = 'C:/Users/cortiz/Projects/inscopix_project_cajal/data/20211204/mouse_02_IL'\n",
    "# cur_dir = 'C:/Users/cortiz/Projects/inscopix_project_cajal/data/20211204/mouse_01_CA1'\n",
    "cur_dir = 'C:/Users/cortiz/Projects/inscopix_project_cajal/data/20211206/mouse_02_IL'\n",
    "path_table = os.path.join(cur_dir, 'behavior', 'table_cut.csv')\n",
    "path_mat_spikes = os.path.join(cur_dir, 'spikes', 'finalSpikesMat.mat')"
   ]
  },
  {
   "cell_type": "markdown",
   "id": "b59cda59-4341-4ba6-aae3-db731437aa1e",
   "metadata": {},
   "source": [
    "# Parameters"
   ]
  },
  {
   "cell_type": "code",
   "execution_count": 3,
   "id": "26fa0dd5-0ebd-4248-9362-5fa6498b87eb",
   "metadata": {},
   "outputs": [],
   "source": [
    "n_palette = 20"
   ]
  },
  {
   "cell_type": "markdown",
   "id": "d18ba786-b2f2-4d0a-ad0e-49efc0675448",
   "metadata": {},
   "source": [
    "# Loading files"
   ]
  },
  {
   "cell_type": "code",
   "execution_count": 4,
   "id": "f18a61c7-d7c9-40d8-b436-55d81c8bb5cb",
   "metadata": {},
   "outputs": [],
   "source": [
    "path_pickle = os.path.join(cur_dir, 'pickle')\n",
    "with open(os.path.join(path_pickle, 'meta_spikes.pck'), 'rb') as f:\n",
    "    meta_spikes = pickle.load(f)\n",
    "with open(os.path.join(path_pickle, 'df_dlc.pck'), 'rb') as f:\n",
    "    df_dlc = pickle.load(f)\n",
    "with open(os.path.join(path_pickle, 'mat_spikes.pck'), 'rb') as f:\n",
    "    mat_spikes = pickle.load(f)\n",
    "with open(os.path.join(path_pickle, 'df_frames.pck'), 'rb') as f:\n",
    "    df_frames = pickle.load(f)\n",
    "with open(os.path.join(path_pickle, 'dict_meta.pck'), 'rb') as f:\n",
    "    dict_meta = pickle.load(f)"
   ]
  },
  {
   "cell_type": "markdown",
   "id": "2bc5f54c-3188-4f71-beca-a7de6317de49",
   "metadata": {},
   "source": [
    "# Adding session type data"
   ]
  },
  {
   "cell_type": "code",
   "execution_count": 5,
   "id": "d3f2353a-25d2-4df1-814b-d1be8fbbafcf",
   "metadata": {},
   "outputs": [],
   "source": [
    "df_dlc['environment'] = ''\n",
    "for k,d in dict_meta['dict_env'].items():\n",
    "    val_sessions = [df_frames.loc[idx, 'session'] for idx in d]    \n",
    "    sub_df = df_dlc.query('session in @val_sessions')\n",
    "    df_dlc.loc[sub_df.index, 'environment'] = k"
   ]
  },
  {
   "cell_type": "markdown",
   "id": "abb9d089-acdc-462a-b462-aabb9271e067",
   "metadata": {},
   "source": [
    "# Finding maze limits"
   ]
  },
  {
   "cell_type": "markdown",
   "id": "f492c84e-410e-4842-98b8-8f0b87c02bed",
   "metadata": {},
   "source": [
    "## Function"
   ]
  },
  {
   "cell_type": "code",
   "execution_count": 6,
   "id": "adf3ce10-c9df-4a13-8da0-cc88f6a5c1d7",
   "metadata": {},
   "outputs": [],
   "source": [
    "def plotTrajectoryEnv(k, color_frames = False):\n",
    "\n",
    "    selected_sessions = dict_meta['dict_env'][k]\n",
    "    \n",
    "    lname = list()\n",
    "    for idx in selected_sessions:\n",
    "        lname.append(df_frames.loc[idx, 'session'])\n",
    "\n",
    "    for i,r in df_frames.iterrows():\n",
    "        if r['session'] not in lname:\n",
    "            continue\n",
    "\n",
    "        cur_session = r['session']\n",
    "        sub_spikes = meta_spikes.query('session == @cur_session')\n",
    "\n",
    "        if not color_frames:\n",
    "            plt.plot(sub_spikes['x'], sub_spikes['y'], c = 'darkgray', alpha = 1, linewidth = 2, zorder = -1)   \n",
    "        else:\n",
    "            df_dlc_axis = df_dlc[['closest_arm', 'projection', 'environment']]\n",
    "            sub_spikes = sub_spikes.join(df_dlc_axis, on = 'behavioral_frame')\n",
    "            pal_name = {'middle': 'Greens',\n",
    "                        'left': 'Reds',\n",
    "                        'right': 'Blues'}\n",
    "            \n",
    "            for i,arm in enumerate(['middle', 'left', 'right']):\n",
    "                cur_pal = np.array(sns.color_palette(pal_name[arm], n_palette, as_cmap=False))\n",
    "                sub_spikes_region = sub_spikes.query('(closest_arm == @arm) & (environment == @k)')\n",
    "                # plt.scatter(sub_spikes_region['x'], sub_spikes_region['y'], c = col_vect[i])\n",
    "                bin_code = np.digitize(sub_spikes_region['projection'], np.linspace(0,1.001,num=n_palette+1)) \n",
    "                plt.scatter(sub_spikes_region['x'], sub_spikes_region['y'], c = cur_pal[bin_code-1])\n",
    "            \n",
    "    c = coords[k]\n",
    "    plt.plot([c['x_c'], c['x_m']], [c['y_c'], c['y_m']], c = 'g', marker = 'o')\n",
    "    plt.plot([c['x_c'], c['x_l']], [c['y_c'], c['y_l']], c = 'r', marker = 'o')\n",
    "    plt.plot([c['x_c'], c['x_r']], [c['y_c'], c['y_r']], c = 'b', marker = 'o')\n",
    "    plt.gca().set_aspect('equal')"
   ]
  },
  {
   "cell_type": "markdown",
   "id": "fb366366-9661-43f2-9499-3b4ca139af02",
   "metadata": {},
   "source": [
    "## Coordinates dots"
   ]
  },
  {
   "cell_type": "markdown",
   "id": "9052bd83-0225-4eb7-82f9-bc66d04733f7",
   "metadata": {},
   "source": [
    "### t_maze"
   ]
  },
  {
   "cell_type": "code",
   "execution_count": 41,
   "id": "a4540734-3ef3-4dd8-9e69-9a7c7f0ff464",
   "metadata": {},
   "outputs": [
    {
     "data": {
      "text/plain": [
       "{'framerate_inscopix': 20,\n",
       " 'framerate_behavior': 15,\n",
       " 'frame_count': array([3641, 3773, 3800, 3691, 3867, 4254, 3945, 3793, 3946, 3647, 3721,\n",
       "        3682]),\n",
       " 'discard_sessions': array([8]),\n",
       " 'dict_env': {'t_maze': [0, 4, 6, 9],\n",
       "  'y_maze': [1, 3, 7, 8],\n",
       "  'open_field': [2, 5, 10]},\n",
       " 'offset': {}}"
      ]
     },
     "execution_count": 41,
     "metadata": {},
     "output_type": "execute_result"
    }
   ],
   "source": [
    "dict_meta"
   ]
  },
  {
   "cell_type": "code",
   "execution_count": 40,
   "id": "1db106b2-8ead-46c3-9192-535cb122c160",
   "metadata": {},
   "outputs": [
    {
     "data": {
      "text/html": [
       "<div>\n",
       "<style scoped>\n",
       "    .dataframe tbody tr th:only-of-type {\n",
       "        vertical-align: middle;\n",
       "    }\n",
       "\n",
       "    .dataframe tbody tr th {\n",
       "        vertical-align: top;\n",
       "    }\n",
       "\n",
       "    .dataframe thead th {\n",
       "        text-align: right;\n",
       "    }\n",
       "</style>\n",
       "<table border=\"1\" class=\"dataframe\">\n",
       "  <thead>\n",
       "    <tr style=\"text-align: right;\">\n",
       "      <th></th>\n",
       "      <th>file</th>\n",
       "      <th>path</th>\n",
       "      <th>start_frame</th>\n",
       "      <th>end_frame</th>\n",
       "      <th>session</th>\n",
       "    </tr>\n",
       "  </thead>\n",
       "  <tbody>\n",
       "    <tr>\n",
       "      <th>0</th>\n",
       "      <td>WIN_20211206_18_09_25_Pro.mp4</td>\n",
       "      <td>C:/Users/cortiz/Projects/inscopix_project_caja...</td>\n",
       "      <td>47</td>\n",
       "      <td>2763</td>\n",
       "      <td>WIN_20211206_18_09_25_Pro</td>\n",
       "    </tr>\n",
       "    <tr>\n",
       "      <th>1</th>\n",
       "      <td>WIN_20211206_18_13_22_Pro.mp4</td>\n",
       "      <td>C:/Users/cortiz/Projects/inscopix_project_caja...</td>\n",
       "      <td>27</td>\n",
       "      <td>2855</td>\n",
       "      <td>WIN_20211206_18_13_22_Pro</td>\n",
       "    </tr>\n",
       "    <tr>\n",
       "      <th>2</th>\n",
       "      <td>WIN_20211206_18_17_38_Pro.mp4</td>\n",
       "      <td>C:/Users/cortiz/Projects/inscopix_project_caja...</td>\n",
       "      <td>26</td>\n",
       "      <td>2874</td>\n",
       "      <td>WIN_20211206_18_17_38_Pro</td>\n",
       "    </tr>\n",
       "    <tr>\n",
       "      <th>3</th>\n",
       "      <td>WIN_20211206_18_22_29_Pro.mp4</td>\n",
       "      <td>C:/Users/cortiz/Projects/inscopix_project_caja...</td>\n",
       "      <td>18</td>\n",
       "      <td>2784</td>\n",
       "      <td>WIN_20211206_18_22_29_Pro</td>\n",
       "    </tr>\n",
       "    <tr>\n",
       "      <th>4</th>\n",
       "      <td>WIN_20211206_18_26_41_Pro.mp4</td>\n",
       "      <td>C:/Users/cortiz/Projects/inscopix_project_caja...</td>\n",
       "      <td>25</td>\n",
       "      <td>2918</td>\n",
       "      <td>WIN_20211206_18_26_41_Pro</td>\n",
       "    </tr>\n",
       "    <tr>\n",
       "      <th>5</th>\n",
       "      <td>WIN_20211206_18_31_05_Pro.mp4</td>\n",
       "      <td>C:/Users/cortiz/Projects/inscopix_project_caja...</td>\n",
       "      <td>58</td>\n",
       "      <td>3247</td>\n",
       "      <td>WIN_20211206_18_31_05_Pro</td>\n",
       "    </tr>\n",
       "    <tr>\n",
       "      <th>6</th>\n",
       "      <td>WIN_20211206_18_38_09_Pro.mp4</td>\n",
       "      <td>C:/Users/cortiz/Projects/inscopix_project_caja...</td>\n",
       "      <td>43</td>\n",
       "      <td>3000</td>\n",
       "      <td>WIN_20211206_18_38_09_Pro</td>\n",
       "    </tr>\n",
       "    <tr>\n",
       "      <th>7</th>\n",
       "      <td>WIN_20211206_18_41_58_Pro.mp4</td>\n",
       "      <td>C:/Users/cortiz/Projects/inscopix_project_caja...</td>\n",
       "      <td>31</td>\n",
       "      <td>2874</td>\n",
       "      <td>WIN_20211206_18_41_58_Pro</td>\n",
       "    </tr>\n",
       "    <tr>\n",
       "      <th>8</th>\n",
       "      <td>WIN_20211206_18_49_29_Pro.mp4</td>\n",
       "      <td>C:/Users/cortiz/Projects/inscopix_project_caja...</td>\n",
       "      <td>38</td>\n",
       "      <td>2749</td>\n",
       "      <td>WIN_20211206_18_49_29_Pro</td>\n",
       "    </tr>\n",
       "    <tr>\n",
       "      <th>9</th>\n",
       "      <td>WIN_20211206_18_53_07_Pro.mp4</td>\n",
       "      <td>C:/Users/cortiz/Projects/inscopix_project_caja...</td>\n",
       "      <td>19</td>\n",
       "      <td>2807</td>\n",
       "      <td>WIN_20211206_18_53_07_Pro</td>\n",
       "    </tr>\n",
       "    <tr>\n",
       "      <th>10</th>\n",
       "      <td>WIN_20211206_18_56_49_Pro.mp4</td>\n",
       "      <td>C:/Users/cortiz/Projects/inscopix_project_caja...</td>\n",
       "      <td>23</td>\n",
       "      <td>2783</td>\n",
       "      <td>WIN_20211206_18_56_49_Pro</td>\n",
       "    </tr>\n",
       "  </tbody>\n",
       "</table>\n",
       "</div>"
      ],
      "text/plain": [
       "                             file  \\\n",
       "0   WIN_20211206_18_09_25_Pro.mp4   \n",
       "1   WIN_20211206_18_13_22_Pro.mp4   \n",
       "2   WIN_20211206_18_17_38_Pro.mp4   \n",
       "3   WIN_20211206_18_22_29_Pro.mp4   \n",
       "4   WIN_20211206_18_26_41_Pro.mp4   \n",
       "5   WIN_20211206_18_31_05_Pro.mp4   \n",
       "6   WIN_20211206_18_38_09_Pro.mp4   \n",
       "7   WIN_20211206_18_41_58_Pro.mp4   \n",
       "8   WIN_20211206_18_49_29_Pro.mp4   \n",
       "9   WIN_20211206_18_53_07_Pro.mp4   \n",
       "10  WIN_20211206_18_56_49_Pro.mp4   \n",
       "\n",
       "                                                 path  start_frame  end_frame  \\\n",
       "0   C:/Users/cortiz/Projects/inscopix_project_caja...           47       2763   \n",
       "1   C:/Users/cortiz/Projects/inscopix_project_caja...           27       2855   \n",
       "2   C:/Users/cortiz/Projects/inscopix_project_caja...           26       2874   \n",
       "3   C:/Users/cortiz/Projects/inscopix_project_caja...           18       2784   \n",
       "4   C:/Users/cortiz/Projects/inscopix_project_caja...           25       2918   \n",
       "5   C:/Users/cortiz/Projects/inscopix_project_caja...           58       3247   \n",
       "6   C:/Users/cortiz/Projects/inscopix_project_caja...           43       3000   \n",
       "7   C:/Users/cortiz/Projects/inscopix_project_caja...           31       2874   \n",
       "8   C:/Users/cortiz/Projects/inscopix_project_caja...           38       2749   \n",
       "9   C:/Users/cortiz/Projects/inscopix_project_caja...           19       2807   \n",
       "10  C:/Users/cortiz/Projects/inscopix_project_caja...           23       2783   \n",
       "\n",
       "                      session  \n",
       "0   WIN_20211206_18_09_25_Pro  \n",
       "1   WIN_20211206_18_13_22_Pro  \n",
       "2   WIN_20211206_18_17_38_Pro  \n",
       "3   WIN_20211206_18_22_29_Pro  \n",
       "4   WIN_20211206_18_26_41_Pro  \n",
       "5   WIN_20211206_18_31_05_Pro  \n",
       "6   WIN_20211206_18_38_09_Pro  \n",
       "7   WIN_20211206_18_41_58_Pro  \n",
       "8   WIN_20211206_18_49_29_Pro  \n",
       "9   WIN_20211206_18_53_07_Pro  \n",
       "10  WIN_20211206_18_56_49_Pro  "
      ]
     },
     "execution_count": 40,
     "metadata": {},
     "output_type": "execute_result"
    }
   ],
   "source": [
    "df_frames"
   ]
  },
  {
   "cell_type": "code",
   "execution_count": 59,
   "id": "ea876fe9-25ef-4369-8747-2ba5e02feebe",
   "metadata": {},
   "outputs": [
    {
     "name": "stdout",
     "output_type": "stream",
     "text": [
      "Int64Index([11214, 11215, 11216, 11217, 11218, 11219, 11220, 11221, 11222,\n",
      "            11223,\n",
      "            ...\n",
      "            14895, 14896, 14897, 14898, 14899, 14900, 14901, 14902, 14903,\n",
      "            14904],\n",
      "           dtype='int64', length=3691)\n"
     ]
    }
   ],
   "source": [
    "with open(os.path.join(path_pickle, 'meta_spikes.pck'), 'rb') as f:\n",
    "    meta_spikes = pickle.load(f)\n",
    "    \n",
    "dict_meta['offset'] = {\n",
    "    'WIN_20211206_18_22_29_Pro': {\n",
    "        'x': -10,\n",
    "        'y': +5\n",
    "    }\n",
    "}\n",
    "#     'WIN_20211204_15_28_13_Pro': {\n",
    "#         'x': -10,\n",
    "#         'y': +0\n",
    "#     }\n",
    "# }\n",
    "\n",
    "for k,d in dict_meta['offset'].items():\n",
    "    sub_meta = meta_spikes.query('session == @k')\n",
    "    print(sub_meta.index)\n",
    "    meta_spikes.loc[sub_meta.index, 'x'] += d['x']\n",
    "    meta_spikes.loc[sub_meta.index, 'y'] += d['y']\n"
   ]
  },
  {
   "cell_type": "code",
   "execution_count": 79,
   "id": "eb039049-ac9f-4d5a-bed5-8ab6f417e936",
   "metadata": {},
   "outputs": [
    {
     "data": {
      "image/png": "[encoded data removed]",
      "text/plain": [
       "<Figure size 720x360 with 2 Axes>"
      ]
     },
     "metadata": {
      "needs_background": "light"
     },
     "output_type": "display_data"
    }
   ],
   "source": [
    "coords = dict()\n",
    "coords['y_maze'] = {\n",
    "    'x_c': 495,\n",
    "    'y_c': 212,\n",
    "    'x_m': 505,\n",
    "    'y_m': 340,\n",
    "    'x_l': 380,\n",
    "    'y_l': 163,\n",
    "    'x_r': 610,\n",
    "    'y_r': 133   \n",
    "}\n",
    "coords['t_maze'] = {\n",
    "    'x_c': 503,\n",
    "    'y_c': 207,\n",
    "    'x_m': 380,\n",
    "    'y_m': 155,\n",
    "    'x_l': 462,\n",
    "    'y_l': 310,\n",
    "    'x_r': 555,\n",
    "    'y_r': 100\n",
    "}\n",
    "    \n",
    "plt.figure(figsize = (10,5))\n",
    "plt.subplot(121)\n",
    "plotTrajectoryEnv('t_maze', False)\n",
    "plt.subplot(122)\n",
    "plotTrajectoryEnv('y_maze', False)"
   ]
  },
  {
   "cell_type": "markdown",
   "id": "f6a84f8c-1847-43c0-bfaf-77e75e77037b",
   "metadata": {},
   "source": [
    "### y_maze"
   ]
  },
  {
   "cell_type": "markdown",
   "id": "d88560d0-5f2d-4e66-a211-6d26f6f759df",
   "metadata": {},
   "source": [
    "## Computing distance to line"
   ]
  },
  {
   "cell_type": "code",
   "execution_count": 80,
   "id": "faabbf20-469c-4352-9287-5c1119e62363",
   "metadata": {},
   "outputs": [],
   "source": [
    "df_dlc['closest_arm'] = ''\n",
    "for env in ['t_maze', 'y_maze']:\n",
    "    c = coords[env]\n",
    "    sub_df = df_dlc.query('environment == @env')\n",
    "    dist_m = [LineString([(c['x_c'], c['y_c']), (c['x_m'], c['y_m'])]).distance(Point(r['xc'], r['yc'])) for _,r in sub_df.iterrows()]\n",
    "    dist_l = [LineString([(c['x_c'], c['y_c']), (c['x_l'], c['y_l'])]).distance(Point(r['xc'], r['yc'])) for _,r in sub_df.iterrows()]\n",
    "    dist_r = [LineString([(c['x_c'], c['y_c']), (c['x_r'], c['y_r'])]).distance(Point(r['xc'], r['yc'])) for _,r in sub_df.iterrows()]\n",
    "    mat_distances = np.array([dist_m, dist_l, dist_r])\n",
    "    df_dlc.loc[sub_df.index, 'closest_arm'] = np.array(['middle', 'left', 'right'])[np.argmin(mat_distances, axis = 0)]"
   ]
  },
  {
   "cell_type": "markdown",
   "id": "c77eb539-1b1e-46ea-ac89-470c39ca6be1",
   "metadata": {},
   "source": [
    "## Projection to the closest line"
   ]
  },
  {
   "cell_type": "code",
   "execution_count": 81,
   "id": "6f121f38-508d-4ca7-8f3b-c2cfc61d8c64",
   "metadata": {},
   "outputs": [],
   "source": [
    "df_dlc['projection'] = 0\n",
    "\n",
    "for env in ['t_maze', 'y_maze']:\n",
    "    c = coords[env]\n",
    "    for arm in ['middle', 'left', 'right']:\n",
    "        if arm == 'middle':\n",
    "            x = c['x_m']\n",
    "            y = c['y_m']\n",
    "        elif arm == 'left':\n",
    "            x = c['x_l']\n",
    "            y = c['y_l']\n",
    "        elif arm == 'right':\n",
    "            x = c['x_r']\n",
    "            y = c['y_r']\n",
    "        sub_df = df_dlc.query('(closest_arm == @arm) & (environment == @env)')\n",
    "        proj = [LineString([(c['x_c'], c['y_c']), (x, y)]).project(Point(r['xc'], r['yc']), normalized=True) for _,r in sub_df.iterrows()]\n",
    "        df_dlc.loc[sub_df.index, 'projection'] = proj"
   ]
  },
  {
   "cell_type": "code",
   "execution_count": 82,
   "id": "3ad03856-1140-4a77-b33f-86c23c682c68",
   "metadata": {},
   "outputs": [
    {
     "data": {
      "image/png": "[encoded data removed]",
      "text/plain": [
       "<Figure size 720x360 with 2 Axes>"
      ]
     },
     "metadata": {
      "needs_background": "light"
     },
     "output_type": "display_data"
    }
   ],
   "source": [
    "plt.figure(figsize = (10,5))\n",
    "plt.subplot(121)\n",
    "plotTrajectoryEnv('t_maze', True)\n",
    "plt.subplot(122)\n",
    "plotTrajectoryEnv('y_maze', True)"
   ]
  },
  {
   "cell_type": "markdown",
   "id": "9e921193-0eca-4b27-9c92-4ad5087b7fda",
   "metadata": {},
   "source": [
    "# Saving data "
   ]
  },
  {
   "cell_type": "code",
   "execution_count": 83,
   "id": "680fce2f-794d-4d86-abe9-7a5142beef74",
   "metadata": {},
   "outputs": [],
   "source": [
    "with open(os.path.join(cur_dir, 'pickle', 'df_dlc_projections.pck'), 'wb') as f:\n",
    "    pickle.dump(df_dlc, f)\n",
    "if os.path.exists(os.path.join(cur_dir, 'pickle', 'reference_points.pck')):\n",
    "    sys.exit('There is already a reference point file, are you sure you want to delete?')\n",
    "with open(os.path.join(cur_dir, 'pickle', 'reference_points.pck'), 'wb') as f:\n",
    "    pickle.dump(coords, f)\n",
    "with open(os.path.join(cur_dir, 'pickle', 'dict_meta.pck'), 'wb') as f:\n",
    "    pickle.dump(dict_meta, f)"
   ]
  }
 ],
 "metadata": {
  "kernelspec": {
   "display_name": "Python 3 (ipykernel)",
   "language": "python",
   "name": "python3"
  },
  "language_info": {
   "codemirror_mode": {
    "name": "ipython",
    "version": 3
   },
   "file_extension": ".py",
   "mimetype": "text/x-python",
   "name": "python",
   "nbconvert_exporter": "python",
   "pygments_lexer": "ipython3",
   "version": "3.9.7"
  }
 },
 "nbformat": 4,
 "nbformat_minor": 5
}
